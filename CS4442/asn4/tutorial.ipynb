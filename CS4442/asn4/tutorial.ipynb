{
 "cells": [
  {
   "cell_type": "markdown",
   "metadata": {
    "id": "fnF0cNjwkfoC"
   },
   "source": [
    "![alt text](https://banner2.cleanpng.com/20180604/opy/kisspng-ivey-business-school-fanshawe-college-leeds-becket-case-western-reserve-university-5b15b40c4ce291.4994544515281490043149.jpg)\n",
    "\n",
    "# Deep Learning Tutorial\n",
    "### Speaker: Haider Al-Tahan (haltaha@uwo.ca)\n",
    "### Course: Artificial Intelligence II\n",
    "\n",
    "This is a tutorial on the practical implementation of Neural Networks and will focus on hands-on experience with [PyTorch](https://pytorch.org/) and [Tensorflow](https://www.tensorflow.org/hub). Topics will include:\n",
    "\n",
    "\n",
    "\n",
    "1.   Introduction to PyTorch and Tensorflow 2.0.\n",
    "2.   Train and evaluate of dense and convolutional neural networks for real problems.\n",
    "3.   Using pretrained NNs on your own dataset to increase performance and decrease training time.\n",
    "\n",
    "You can use [Google Colaboratory]('http://colab.research.google.com') notebook file which is a [Jupyter notebook]('https://jupyter.org/') with free limited access to a GPU. Jupyter notebooks allows python programs to run directly in the browser which can be great way to learn and use TensorFlow.\n",
    "\n",
    "If you are using Google colab notebook and want to utilize the free GPU for training, do the following:\n",
    "\n",
    "1. At the top-left of the of the menu bar, Select `Runtime` > `Change runtime type`. \n",
    "2. Click on `Hardware accelerator` > `GPU`.\n",
    "3. At the top-right of the menu bar, select `CONNECT` to initialize your python interpreter."
   ]
  },
  {
   "cell_type": "code",
   "execution_count": null,
   "metadata": {
    "id": "eD7ZmQWlpQFh"
   },
   "outputs": [],
   "source": [
    "# Without GPU\n",
    "# !pip install tensorflow==2.0.0\n",
    "# With GPU \n",
    "# !pip install tensorflow-gpu==2.0.0\n",
    "# !pip install matplotlib\n",
    "# If using colab\n",
    "%tensorflow_version 2.x"
   ]
  },
  {
   "cell_type": "markdown",
   "metadata": {
    "id": "D5gi7g-koajC"
   },
   "source": [
    "# Importing Libraries"
   ]
  },
  {
   "cell_type": "code",
   "execution_count": null,
   "metadata": {
    "colab": {
     "base_uri": "https://localhost:8080/"
    },
    "id": "cUc9UqQgoiCz",
    "outputId": "e16e04da-b413-49b6-db43-589bb19f1e20"
   },
   "outputs": [
    {
     "name": "stdout",
     "output_type": "stream",
     "text": [
      "2.4.1\n"
     ]
    }
   ],
   "source": [
    "import torch # PyTorch\n",
    "import tensorflow as tf # TensorFlow\n",
    "from tensorflow import keras # Keras\n",
    "import numpy as np # Numpy\n",
    "from tqdm import tqdm\n",
    "from sklearn.model_selection import train_test_split # Easy to use function to split my data\n",
    "import matplotlib.pyplot as plt # Library for Visualization\n",
    "from torchvision import datasets, transforms\n",
    "import torch.nn.functional as F\n",
    "print(tf.__version__)"
   ]
  },
  {
   "cell_type": "markdown",
   "metadata": {
    "id": "-t34bZHxoLLJ"
   },
   "source": [
    "# Neural Networks Basics"
   ]
  },
  {
   "cell_type": "markdown",
   "metadata": {
    "id": "FYti-oWeoUPl"
   },
   "source": [
    "![alt text](https://miro.medium.com/max/465/1*fX2hHozXqOOnj_bMmQpMIg.jpeg)\n",
    "[image source](https://becominghuman.ai/artificial-neuron-networks-basics-introduction-to-neural-networks-3082f1dcca8c)\n"
   ]
  },
  {
   "cell_type": "markdown",
   "metadata": {
    "id": "99rPonU7o73z"
   },
   "source": [
    "## Temperature Conversion Problem"
   ]
  },
  {
   "cell_type": "code",
   "execution_count": null,
   "metadata": {
    "id": "WFVIYoHppByf"
   },
   "outputs": [],
   "source": [
    "def CtoF(c):\n",
    "    return c * 1.8 + 32"
   ]
  },
  {
   "cell_type": "markdown",
   "metadata": {
    "id": "Xy1xW__ioNyv"
   },
   "source": [
    "### PyTorch"
   ]
  },
  {
   "cell_type": "markdown",
   "metadata": {
    "id": "hz0y8Z14ZFeC"
   },
   "source": [
    "#### Constants"
   ]
  },
  {
   "cell_type": "code",
   "execution_count": null,
   "metadata": {
    "id": "N4ZFIkS2b7Sw"
   },
   "outputs": [],
   "source": [
    "BATCH_SIZE = 32\n",
    "LEARNING_RATE = 0.1\n",
    "EPOCHS = 100"
   ]
  },
  {
   "cell_type": "markdown",
   "metadata": {
    "id": "w1A0PnjoYbLz"
   },
   "source": [
    "#### Dataset"
   ]
  },
  {
   "cell_type": "code",
   "execution_count": null,
   "metadata": {
    "id": "nL1pXPw6Yanc"
   },
   "outputs": [],
   "source": [
    "# Celcius data ranging from 1 to 1000 \n",
    "x_train = torch.tensor(range(1, 1000), dtype=torch.float32).view(-1, 1)\n",
    "# Fahrenheit data converted using the above function\n",
    "y_train = torch.tensor(list(map(CtoF, x_train)), dtype=torch.float32).view(-1, 1)\n",
    "\n",
    "# Getting data ready for PyTorch\n",
    "dataset = torch.utils.data.TensorDataset(x_train, y_train)\n",
    "dataset = torch.utils.data.DataLoader(dataset, batch_size=BATCH_SIZE)"
   ]
  },
  {
   "cell_type": "markdown",
   "metadata": {
    "id": "LfxGQ3crYSYW"
   },
   "source": [
    "#### Loss Function"
   ]
  },
  {
   "cell_type": "code",
   "execution_count": null,
   "metadata": {
    "id": "MOKnRjInYYdG"
   },
   "outputs": [],
   "source": [
    "loss_fn = torch.nn.MSELoss()"
   ]
  },
  {
   "cell_type": "markdown",
   "metadata": {
    "id": "70cEOXrHZT7j"
   },
   "source": [
    "#### Model"
   ]
  },
  {
   "cell_type": "code",
   "execution_count": null,
   "metadata": {
    "id": "7ojSngEaZVwL"
   },
   "outputs": [],
   "source": [
    "model = torch.nn.Sequential(torch.nn.Linear(1,1))"
   ]
  },
  {
   "cell_type": "markdown",
   "metadata": {
    "id": "fTIAvX1sZO-l"
   },
   "source": [
    "#### Optimizer"
   ]
  },
  {
   "cell_type": "code",
   "execution_count": null,
   "metadata": {
    "id": "rd4uhmZRZSIO"
   },
   "outputs": [],
   "source": [
    "optimizer = torch.optim.Adam(model.parameters(), lr=LEARNING_RATE)"
   ]
  },
  {
   "cell_type": "markdown",
   "metadata": {
    "id": "B-VK0wNVZaxa"
   },
   "source": [
    "#### Training"
   ]
  },
  {
   "cell_type": "code",
   "execution_count": null,
   "metadata": {
    "colab": {
     "base_uri": "https://localhost:8080/"
    },
    "id": "55JEJBMHo5Js",
    "outputId": "f9627382-b175-45e2-8f04-b7fe31236c91"
   },
   "outputs": [
    {
     "name": "stderr",
     "output_type": "stream",
     "text": [
      "100%|██████████| 100/100 [00:01<00:00, 63.07it/s]\n"
     ]
    }
   ],
   "source": [
    "loss_history = []\n",
    "for i in tqdm(range(EPOCHS)):\n",
    "    mloss = []\n",
    "    for X, y in dataset:\n",
    "        optimizer.zero_grad()\n",
    "        loss = loss_fn(model(X), y)\n",
    "        loss.backward()\n",
    "        optimizer.step()\n",
    "        mloss.append(loss.item())\n",
    "    loss_history.append(np.array(mloss).mean())"
   ]
  },
  {
   "cell_type": "markdown",
   "metadata": {
    "id": "IfFDAYGIZ-lE"
   },
   "source": [
    "#### Performance"
   ]
  },
  {
   "cell_type": "code",
   "execution_count": null,
   "metadata": {
    "colab": {
     "base_uri": "https://localhost:8080/"
    },
    "id": "oFZBI77_wHtH",
    "outputId": "6beac97d-3b23-4a8c-cb41-1b1941fc7bfe"
   },
   "outputs": [
    {
     "name": "stdout",
     "output_type": "stream",
     "text": [
      "tensor([[1.7946]])\n",
      "tensor([32.0577])\n"
     ]
    }
   ],
   "source": [
    "for param in model.parameters():\n",
    "  print(param.data)"
   ]
  },
  {
   "cell_type": "code",
   "execution_count": null,
   "metadata": {
    "colab": {
     "base_uri": "https://localhost:8080/",
     "height": 297
    },
    "id": "lM7JsMEj8f0Z",
    "outputId": "4af71ab2-567e-46f5-ae1f-44ade9188bd9"
   },
   "outputs": [
    {
     "data": {
      "text/plain": [
       "[<matplotlib.lines.Line2D at 0x7faa662f40d0>]"
      ]
     },
     "execution_count": 108,
     "metadata": {
      "tags": []
     },
     "output_type": "execute_result"
    },
    {
     "data": {
      "image/png": "[encoded data removed]",
      "text/plain": [
       "<Figure size 432x288 with 1 Axes>"
      ]
     },
     "metadata": {
      "needs_background": "light",
      "tags": []
     },
     "output_type": "display_data"
    }
   ],
   "source": [
    "plt.xlabel('Epochs')\n",
    "plt.ylabel(\"Loss\")\n",
    "plt.plot(loss_history)"
   ]
  },
  {
   "cell_type": "code",
   "execution_count": null,
   "metadata": {
    "colab": {
     "base_uri": "https://localhost:8080/",
     "height": 296
    },
    "id": "-6xKAl6z_43s",
    "outputId": "3ed03069-6741-47b4-fd29-4427db9ebcb0"
   },
   "outputs": [
    {
     "data": {
      "text/plain": [
       "<matplotlib.legend.Legend at 0x7faa662bbd50>"
      ]
     },
     "execution_count": 109,
     "metadata": {
      "tags": []
     },
     "output_type": "execute_result"
    },
    {
     "data": {
      "image/png": "[encoded data removed]",
      "text/plain": [
       "<Figure size 432x288 with 1 Axes>"
      ]
     },
     "metadata": {
      "needs_background": "light",
      "tags": []
     },
     "output_type": "display_data"
    }
   ],
   "source": [
    "xtest = torch.tensor(range(-100, 100), dtype=torch.float32).view(-1, 1)\n",
    "ytest = torch.tensor(list(map(CtoF, xtest)), dtype=torch.float32).view(-1, 1)\n",
    "\n",
    "y_pred = model(xtest)\n",
    "plt.xlabel('C')\n",
    "plt.ylabel(\"F\")\n",
    "plt.plot(xtest.numpy(), ytest.numpy())\n",
    "plt.plot(xtest.numpy(), y_pred.detach().numpy())\n",
    "plt.legend(['True value', 'Predicted Value'])"
   ]
  },
  {
   "cell_type": "markdown",
   "metadata": {
    "id": "j9XBUNV-oSxJ"
   },
   "source": [
    "### TensorFlow"
   ]
  },
  {
   "cell_type": "markdown",
   "metadata": {
    "id": "-iWYV7ZxcXjt"
   },
   "source": [
    "#### Dataset"
   ]
  },
  {
   "cell_type": "code",
   "execution_count": null,
   "metadata": {
    "id": "VeijhyJFcEPq"
   },
   "outputs": [],
   "source": [
    "# Celcius data ranging from 1 to 1000 \n",
    "x_train = np.array(list(range(1, 1000))).reshape((-1, 1))\n",
    "# Fahrenheit data converted using the above function\n",
    "y_train = np.array(list(map(CtoF, x_train))).reshape((-1, 1))\n",
    "\n",
    "dataset = tf.data.Dataset.from_tensor_slices((x_train, y_train)).shuffle(BATCH_SIZE).batch(BATCH_SIZE)"
   ]
  },
  {
   "cell_type": "markdown",
   "metadata": {
    "id": "wZPdJpZSc8pl"
   },
   "source": [
    "#### Loss Function"
   ]
  },
  {
   "cell_type": "code",
   "execution_count": null,
   "metadata": {
    "id": "k3UwUl6WcEMW"
   },
   "outputs": [],
   "source": [
    "loss_fn = tf.keras.losses.MSE"
   ]
  },
  {
   "cell_type": "markdown",
   "metadata": {
    "id": "wXe8AKh0dMtM"
   },
   "source": [
    "#### Model"
   ]
  },
  {
   "cell_type": "code",
   "execution_count": null,
   "metadata": {
    "colab": {
     "base_uri": "https://localhost:8080/"
    },
    "id": "nn3M-9mKcEIr",
    "outputId": "96bba7ea-b023-46a3-c8d2-e28282bcdd41"
   },
   "outputs": [
    {
     "name": "stdout",
     "output_type": "stream",
     "text": [
      "Model: \"sequential_4\"\n",
      "_________________________________________________________________\n",
      "Layer (type)                 Output Shape              Param #   \n",
      "=================================================================\n",
      "dense_4 (Dense)              (None, 1)                 2         \n",
      "=================================================================\n",
      "Total params: 2\n",
      "Trainable params: 2\n",
      "Non-trainable params: 0\n",
      "_________________________________________________________________\n"
     ]
    }
   ],
   "source": [
    "model = keras.Sequential()\n",
    "model.add(keras.layers.Dense(1, input_shape=[1]))\n",
    "model.summary()"
   ]
  },
  {
   "cell_type": "markdown",
   "metadata": {
    "id": "bxdrG_72dQ7C"
   },
   "source": [
    "#### Optimizer"
   ]
  },
  {
   "cell_type": "code",
   "execution_count": null,
   "metadata": {
    "id": "FNEddc9ZcEC-"
   },
   "outputs": [],
   "source": [
    "optimizer = tf.keras.optimizers.Adam(learning_rate=LEARNING_RATE)"
   ]
  },
  {
   "cell_type": "markdown",
   "metadata": {
    "id": "7NapAzDcdeYK"
   },
   "source": [
    "#### Training Step"
   ]
  },
  {
   "cell_type": "code",
   "execution_count": null,
   "metadata": {
    "id": "RYlcZsVhcD4C"
   },
   "outputs": [],
   "source": [
    "train_loss = tf.keras.metrics.Mean(name='train_loss')\n",
    "\n",
    "@tf.function\n",
    "def train_step(X, y):\n",
    "  with tf.GradientTape() as tape:\n",
    "    predictions = model(X)\n",
    "    loss = loss_fn(y, predictions)\n",
    "  gradients = tape.gradient(loss, model.trainable_variables)\n",
    "  optimizer.apply_gradients(zip(gradients, model.trainable_variables))\n",
    "\n",
    "  train_loss(loss)"
   ]
  },
  {
   "cell_type": "markdown",
   "metadata": {
    "id": "F7FNvquXd5vh"
   },
   "source": [
    "#### Training"
   ]
  },
  {
   "cell_type": "code",
   "execution_count": null,
   "metadata": {
    "colab": {
     "base_uri": "https://localhost:8080/",
     "height": 314
    },
    "id": "Dtdd8eLUy7Q9",
    "outputId": "8280fee0-af5e-44fb-80bf-23eb3ecf0f6f"
   },
   "outputs": [
    {
     "name": "stderr",
     "output_type": "stream",
     "text": [
      "100%|██████████| 100/100 [00:03<00:00, 32.65it/s]\n"
     ]
    },
    {
     "data": {
      "text/plain": [
       "[<matplotlib.lines.Line2D at 0x7faa661cae10>]"
      ]
     },
     "execution_count": 115,
     "metadata": {
      "tags": []
     },
     "output_type": "execute_result"
    },
    {
     "data": {
      "image/png": "[encoded data removed]",
      "text/plain": [
       "<Figure size 432x288 with 1 Axes>"
      ]
     },
     "metadata": {
      "needs_background": "light",
      "tags": []
     },
     "output_type": "display_data"
    }
   ],
   "source": [
    "loss_history = []\n",
    "for epoch in tqdm(range(EPOCHS)):\n",
    "  # Reset the metrics at the start of the next epoch\n",
    "  train_loss.reset_states()\n",
    "\n",
    "  for X, y in dataset:\n",
    "    train_step(X, y)\n",
    "\n",
    "  loss_history.append(train_loss.result())\n",
    "plt.xlabel('Epochs')\n",
    "plt.ylabel(\"Loss\")\n",
    "plt.plot(loss_history)"
   ]
  },
  {
   "cell_type": "code",
   "execution_count": null,
   "metadata": {
    "colab": {
     "base_uri": "https://localhost:8080/",
     "height": 296
    },
    "id": "6Ywt_lWMziOy",
    "outputId": "691f7c31-0cd0-45fe-e3d0-648f9c9ac4b2"
   },
   "outputs": [
    {
     "data": {
      "text/plain": [
       "<matplotlib.legend.Legend at 0x7faa666c1190>"
      ]
     },
     "execution_count": 116,
     "metadata": {
      "tags": []
     },
     "output_type": "execute_result"
    },
    {
     "data": {
      "image/png": "[encoded data removed]",
      "text/plain": [
       "<Figure size 432x288 with 1 Axes>"
      ]
     },
     "metadata": {
      "needs_background": "light",
      "tags": []
     },
     "output_type": "display_data"
    }
   ],
   "source": [
    "xtest = np.array(list(range(-100,100))).reshape((-1, 1))\n",
    "ytest = np.array(list(map(CtoF, xtest))).reshape((-1, 1))\n",
    "\n",
    "y_pred = model(xtest)\n",
    "plt.xlabel('C')\n",
    "plt.ylabel(\"F\")\n",
    "plt.plot(xtest, list(ytest))\n",
    "plt.plot(xtest, y_pred)\n",
    "plt.legend(['True value', 'Predicted Value'])"
   ]
  },
  {
   "cell_type": "markdown",
   "metadata": {
    "id": "0QkXh4HQOtdk"
   },
   "source": [
    "# Images as Input"
   ]
  },
  {
   "cell_type": "markdown",
   "metadata": {
    "id": "KX1QJohvPDU0"
   },
   "source": [
    "## Datasets"
   ]
  },
  {
   "cell_type": "markdown",
   "metadata": {
    "id": "-XU1xz5fPE67"
   },
   "source": [
    "\n",
    "For the first example we will use varous dataset. Keras provide us with basic image datasets that we could load with ease. Here is few that we are going to test:\n",
    "\n",
    "1.   **MNIST** -> this dataset consist of 60,000 (28x28) grayscale images for training and 10,000 images for testing. There are two variations of this dataset MNIST contain images in 10 classes of hand written digits. The other version of MNIST is called Fashion MNIST that consist of  60,000 (28x28) grayscale images of 10 fashion categories.\n",
    "\n",
    "2.   **CIFAR** -> this dataset consist of 50,000 (32x32) color images for training and 10,000 images for testing. There are two variations of this dataset CIFAR10 contain images in 10 classes (6000 images per class). While, the CIFAR100 contain images in 100 classes (600 images per class)."
   ]
  },
  {
   "cell_type": "code",
   "execution_count": null,
   "metadata": {
    "colab": {
     "base_uri": "https://localhost:8080/",
     "height": 34
    },
    "id": "nuO2539qPPue",
    "outputId": "dfcda00e-3b01-42dd-fd05-67f17c5ddfa8"
   },
   "outputs": [
    {
     "name": "stderr",
     "output_type": "stream",
     "text": [
      "Using TensorFlow backend.\n"
     ]
    }
   ],
   "source": [
    "from keras.datasets import mnist, cifar10\n",
    "(x_train, y_train), (x_test, y_test) = mnist.load_data()\n",
    "x_val, x_test, y_val, y_test = train_test_split(x_test, y_test, test_size=0.5, random_state=1)"
   ]
  },
  {
   "cell_type": "markdown",
   "metadata": {
    "id": "67S2QtHjPlXo"
   },
   "source": [
    "### Visualize Dataset\n",
    "\n",
    "The images are NumPy arrays, with pixel values ranging from 0 to 255. The labels are an array of integers, ranging from 0 to N. Each integer correspond to different image class.\n",
    "\n",
    "For our data variable (`x_train`), if we print the shape of our training data variable we will get a shape that corresponds to (number of samples, width of images, height of images, number of channels). In this case, 3 dimensional channel it means that we are dealing with colored images. \n",
    "\n",
    "For our labels variable (`y_train`), we same number of labels as our `x_train` data. Hence, if we print out the shape we get a matrix of shape: (number of samples, features)."
   ]
  },
  {
   "cell_type": "code",
   "execution_count": null,
   "metadata": {
    "colab": {
     "base_uri": "https://localhost:8080/",
     "height": 136
    },
    "id": "LWIJ8_-SPu3Z",
    "outputId": "45d8367c-db9c-484d-8429-be9d4de6ad96"
   },
   "outputs": [
    {
     "name": "stdout",
     "output_type": "stream",
     "text": [
      "Training Matrix Shape for data: (60000, 28, 28)\n",
      "Training Matrix Shape for labels: (60000,)\n",
      "Number of Classes: 10\n",
      "Validation Matrix Shape for data: (5000, 28, 28)\n",
      "Validation Matrix Shape for labels: (5000,)\n",
      "Testing Matrix Shape for data: (5000, 28, 28)\n",
      "Testing Matrix Shape for labels: (5000,)\n"
     ]
    }
   ],
   "source": [
    "number_of_classes = int(y_train.max() - y_train.min() + 1)\n",
    "epochs = 10\n",
    "print(f\"Training Matrix Shape for data: {x_train.shape}\")\n",
    "print(f\"Training Matrix Shape for labels: {y_train.shape}\")\n",
    "print(f\"Number of Classes: {number_of_classes}\")\n",
    "print(f\"Validation Matrix Shape for data: {x_val.shape}\")\n",
    "print(f\"Validation Matrix Shape for labels: {y_val.shape}\")\n",
    "print(f\"Testing Matrix Shape for data: {x_test.shape}\")\n",
    "print(f\"Testing Matrix Shape for labels: {y_test.shape}\")"
   ]
  },
  {
   "cell_type": "code",
   "execution_count": null,
   "metadata": {
    "colab": {
     "base_uri": "https://localhost:8080/",
     "height": 1000
    },
    "id": "zyz4yJxiPyCF",
    "outputId": "fad231af-8478-4d8d-d951-9daed9ef52ad"
   },
   "outputs": [
    {
     "data": {
      "image/png": "[encoded data removed]",
      "text/plain": [
       "<Figure size 720x3600 with 50 Axes>"
      ]
     },
     "metadata": {
      "tags": []
     },
     "output_type": "display_data"
    }
   ],
   "source": [
    "number_of_samples = 5\n",
    "plt.figure(figsize=(number_of_classes,number_of_samples*10))\n",
    "image_shape = x_train.shape[1:]\n",
    "\n",
    "c = 1\n",
    "for i in range(number_of_classes):\n",
    "    random_samples =  np.random.choice(np.argwhere(y_train == i)[:,0], number_of_samples)\n",
    "    for j in range(number_of_samples):\n",
    "        plt.subplot(number_of_classes,number_of_samples,c)\n",
    "        plt.xticks([])\n",
    "        plt.yticks([])\n",
    "        plt.grid(False)\n",
    "        plt.imshow(x_train[random_samples[j]], cmap=plt.cm.binary)\n",
    "        c += 1\n",
    "plt.show()"
   ]
  },
  {
   "cell_type": "markdown",
   "metadata": {
    "id": "vX__rN5KQvMY"
   },
   "source": [
    "## Fully-connected Neural Network"
   ]
  },
  {
   "cell_type": "markdown",
   "metadata": {
    "id": "xQ_rdUyQQ8pI"
   },
   "source": [
    "We often represent neural networks as a set of layers. Each layer has its own number of units, activation function, etc... For this example, we construct a very basic model consisting of only fully connected layers.\n",
    "\n",
    "A fully connected layer (called `Dense` layer in TensorFlow and `Linear` in PyTorch) require a one-dimentional input. Hence, the first layer of our network only transforms the 2d image to a one-dimensional array. Resulting in an array of $height×width×channels=ArraySize$.\n",
    "\n",
    "We have chosen 64 nodes (or units) for our first hidden fully connected layer. Increasing the number of nodes, increases complixity and computation time. Sometime it is more advantagous to increase complixity by increasing the number of layers rather than the number of nodes.\n",
    "\n",
    "The last layer consist of 10-nodes that return an array of 10 probability scores that sums to 1. Each node contains a score that indicates the probability that the current image belongs to one of the 10 classes.\n",
    "\n",
    "![alt text](https://miro.medium.com/max/844/1*Cc0LQodOm_vmYEm-DgTV8g.png)\n",
    "[image source](https://towardsdatascience.com/coding-up-a-neural-network-classifier-from-scratch-977d235d8a24)\n",
    "\n",
    "![alt text](https://svgshare.com/i/G7H.svg)\n",
    "\n"
   ]
  },
  {
   "cell_type": "markdown",
   "metadata": {
    "id": "pafKD9hmRMhm"
   },
   "source": [
    "### PyTorch"
   ]
  },
  {
   "cell_type": "markdown",
   "metadata": {
    "id": "XDjWkwvTiyFq"
   },
   "source": [
    "#### Constants"
   ]
  },
  {
   "cell_type": "code",
   "execution_count": null,
   "metadata": {
    "id": "UHg_jBcbiycw"
   },
   "outputs": [],
   "source": [
    "BATCH_SIZE = 32\n",
    "EPOCHS = 5"
   ]
  },
  {
   "cell_type": "markdown",
   "metadata": {
    "id": "Wc6-t7nsmAmL"
   },
   "source": [
    "#### Dataset Loading from Keras\n",
    "\n",
    "We can also import MNIST with PyTorch."
   ]
  },
  {
   "cell_type": "code",
   "execution_count": null,
   "metadata": {
    "id": "plcYbEVphA50"
   },
   "outputs": [],
   "source": [
    "def normalize_data(x_train, y_train, flat=True):\n",
    "    x_train = x_train / 255\n",
    "    if len(x_train.shape) < 4:\n",
    "        x_train = x_train[..., None]\n",
    "    x_train = x_train.transpose([0, 3, 1, 2])\n",
    "    x_train = x_train.astype(np.float32)\n",
    "    x_train = torch.from_numpy(x_train)\n",
    "    if flat:\n",
    "        x_train = torch.flatten(x_train, 1)\n",
    "    y_train = y_train.astype(np.int64)\n",
    "    return x_train, torch.from_numpy(y_train).view(-1)"
   ]
  },
  {
   "cell_type": "markdown",
   "metadata": {
    "id": "6LPL7nsyjEtm"
   },
   "source": [
    "#### Dataset"
   ]
  },
  {
   "cell_type": "code",
   "execution_count": null,
   "metadata": {
    "id": "GSit803TjFA-"
   },
   "outputs": [],
   "source": [
    "from keras.datasets import mnist, cifar10\n",
    "(x_train, y_train), (x_test, y_test) = mnist.load_data()\n",
    "x_val, x_test, y_val, y_test = train_test_split(x_test, y_test, test_size=0.5, random_state=1)\n",
    "\n",
    "x_train, y_train = normalize_data(x_train, y_train)\n",
    "x_val, y_val = normalize_data(x_val, y_val)\n",
    "x_test, y_test = normalize_data(x_test, y_test)\n",
    "dataset = torch.utils.data.TensorDataset(x_train, y_train)\n",
    "dataset = torch.utils.data.DataLoader(dataset, BATCH_SIZE)\n",
    "val_dataset = torch.utils.data.TensorDataset(x_val, y_val)\n",
    "val_dataset = torch.utils.data.DataLoader(val_dataset)\n",
    "test_dataset = torch.utils.data.TensorDataset(x_test, y_test)\n",
    "test_dataset = torch.utils.data.DataLoader(test_dataset)"
   ]
  },
  {
   "cell_type": "markdown",
   "metadata": {
    "id": "QXp2NGosmOHL"
   },
   "source": [
    "#### Model Definition"
   ]
  },
  {
   "cell_type": "code",
   "execution_count": null,
   "metadata": {
    "colab": {
     "base_uri": "https://localhost:8080/",
     "height": 85
    },
    "id": "xZTs58pVgTHO",
    "outputId": "1c156217-f634-485e-ec55-137ac4e989f5"
   },
   "outputs": [
    {
     "data": {
      "text/plain": [
       "Net(\n",
       "  (lin1): Linear(in_features=784, out_features=64, bias=True)\n",
       "  (lin2): Linear(in_features=64, out_features=10, bias=True)\n",
       ")"
      ]
     },
     "execution_count": 26,
     "metadata": {
      "tags": []
     },
     "output_type": "execute_result"
    }
   ],
   "source": [
    "class Net(torch.nn.Module):\n",
    "    def __init__(self, input_size, number_of_classes=10):\n",
    "        super(Net, self).__init__()\n",
    "        self.lin1 = torch.nn.Linear(input_size,64)\n",
    "        self.lin2 = torch.nn.Linear(64,number_of_classes)\n",
    "\n",
    "    def forward(self, x):\n",
    "        x = F.relu(self.lin1(x))\n",
    "        return self.lin2(x)\n",
    "\n",
    "model = Net(x_train.shape[1])\n",
    "model.cuda()"
   ]
  },
  {
   "cell_type": "markdown",
   "metadata": {
    "id": "izs6InGymRPO"
   },
   "source": [
    "#### Training Step"
   ]
  },
  {
   "cell_type": "code",
   "execution_count": null,
   "metadata": {
    "id": "Thj8-whagS9n"
   },
   "outputs": [],
   "source": [
    "def train( model, train_loader, optimizer):\n",
    "    model.train()\n",
    "    correct = 0\n",
    "    for batch_idx, (data, target) in enumerate(train_loader):\n",
    "        data, target = data.cuda(), target.cuda()\n",
    "        optimizer.zero_grad()\n",
    "        output = model(data)\n",
    "        loss = loss_fn(output, target)\n",
    "        loss.backward()\n",
    "        optimizer.step()\n",
    "        pred = output.argmax(dim=1, keepdim=True) \n",
    "        correct += pred.eq(target.view_as(pred)).sum().item()\n",
    "    return loss.item(), correct / len(train_loader.dataset)"
   ]
  },
  {
   "cell_type": "markdown",
   "metadata": {
    "id": "swKVRIq7mTdn"
   },
   "source": [
    "#### Testing/Evaluation Step"
   ]
  },
  {
   "cell_type": "code",
   "execution_count": null,
   "metadata": {
    "id": "KrmTzY4tgSsk"
   },
   "outputs": [],
   "source": [
    "def test( model, test_loader):\n",
    "    model.eval()\n",
    "    test_loss = 0\n",
    "    correct = 0\n",
    "    with torch.no_grad():\n",
    "        for data, target in test_loader:\n",
    "            data, target = data.cuda(), target.cuda()\n",
    "            output = model(data)\n",
    "            test_loss += loss_fn(output, target).item() \n",
    "            pred = output.argmax(dim=1, keepdim=True)  \n",
    "            correct += pred.eq(target.view_as(pred)).sum().item()\n",
    "\n",
    "    test_loss /= len(test_loader.dataset)\n",
    "    return test_loss,  correct / len(test_loader.dataset)"
   ]
  },
  {
   "cell_type": "markdown",
   "metadata": {
    "id": "PZ5BelrxjP8c"
   },
   "source": [
    "#### Loss Function"
   ]
  },
  {
   "cell_type": "code",
   "execution_count": null,
   "metadata": {
    "id": "i6Qzc-Y0jQOb"
   },
   "outputs": [],
   "source": [
    "loss_fn = torch.nn.CrossEntropyLoss()"
   ]
  },
  {
   "cell_type": "markdown",
   "metadata": {
    "id": "64Dq6KaJjYlF"
   },
   "source": [
    "#### Optimizer"
   ]
  },
  {
   "cell_type": "code",
   "execution_count": null,
   "metadata": {
    "id": "reVO8MSDjY6S"
   },
   "outputs": [],
   "source": [
    "optimizer = torch.optim.Adam(model.parameters())"
   ]
  },
  {
   "cell_type": "markdown",
   "metadata": {
    "id": "G8zTBzjMmY-O"
   },
   "source": [
    "#### Running the Training"
   ]
  },
  {
   "cell_type": "code",
   "execution_count": null,
   "metadata": {
    "colab": {
     "base_uri": "https://localhost:8080/",
     "height": 34
    },
    "id": "vszpbZX4RlS4",
    "outputId": "48712e13-02b8-42e7-9ebf-0e9bcc736aca"
   },
   "outputs": [
    {
     "name": "stderr",
     "output_type": "stream",
     "text": [
      "100%|██████████| 5/5 [00:34<00:00,  6.92s/it]\n"
     ]
    }
   ],
   "source": [
    "loss_history = []\n",
    "acc_history = []\n",
    "for i in tqdm(range(EPOCHS)):\n",
    "    train_loss, train_acc = train(model, dataset, optimizer)\n",
    "    val_loss, val_acc = test(model, val_dataset)\n",
    "    loss_history.append((train_loss, val_loss))\n",
    "    acc_history.append((train_acc, val_acc))"
   ]
  },
  {
   "cell_type": "code",
   "execution_count": null,
   "metadata": {
    "colab": {
     "base_uri": "https://localhost:8080/",
     "height": 352
    },
    "id": "u141c85jXfgS",
    "outputId": "789a83ac-6ff4-419c-9c71-9b0f714ea938"
   },
   "outputs": [
    {
     "data": {
      "text/plain": [
       "<matplotlib.legend.Legend at 0x7fc2f2e31da0>"
      ]
     },
     "execution_count": 32,
     "metadata": {
      "tags": []
     },
     "output_type": "execute_result"
    },
    {
     "data": {
      "image/png": "[encoded data removed]",
      "text/plain": [
       "<Figure size 1080x360 with 2 Axes>"
      ]
     },
     "metadata": {
      "tags": []
     },
     "output_type": "display_data"
    }
   ],
   "source": [
    "fig, axs = plt.subplots(1,2,figsize=(15,5))\n",
    "loss_history = np.array(loss_history)\n",
    "acc_history = np.array(acc_history)\n",
    "epochs_range = range(len(loss_history))\n",
    "\n",
    "axs[0].plot(epochs_range, loss_history[:, 0])\n",
    "axs[0].plot(epochs_range, loss_history[:, 1])\n",
    "axs[0].set_xlabel('Epoch')\n",
    "axs[0].set_ylabel('Loss')\n",
    "axs[0].legend(['loss', 'val_loss'])\n",
    "\n",
    "axs[1].plot(epochs_range, acc_history[:, 0])\n",
    "axs[1].plot(epochs_range, acc_history[:, 1])\n",
    "axs[1].set_xlabel('Epoch')\n",
    "axs[1].set_ylabel('Accuracy')\n",
    "axs[1].legend(['accuracy', 'val_accuracy'])"
   ]
  },
  {
   "cell_type": "code",
   "execution_count": null,
   "metadata": {
    "colab": {
     "base_uri": "https://localhost:8080/",
     "height": 34
    },
    "id": "wDmTC3mqnMY_",
    "outputId": "14305ac3-86bf-4bf7-a54d-683a1d5e51e4"
   },
   "outputs": [
    {
     "name": "stdout",
     "output_type": "stream",
     "text": [
      "Test Dataset Loss: 0.11526010112762451, Accuracy: 0.9648\n"
     ]
    }
   ],
   "source": [
    "loss, acc = test(model, test_dataset)\n",
    "print(f\"Test Dataset Loss: {loss}, Accuracy: {acc}\")"
   ]
  },
  {
   "cell_type": "markdown",
   "metadata": {
    "id": "mUCMJWG6RO3k"
   },
   "source": [
    "### TensorFlow"
   ]
  },
  {
   "cell_type": "markdown",
   "metadata": {
    "id": "xwCw4cpDmlDa"
   },
   "source": [
    "#### Dataset Loading from Keras"
   ]
  },
  {
   "cell_type": "code",
   "execution_count": null,
   "metadata": {
    "id": "krU4MmDTl1C1"
   },
   "outputs": [],
   "source": [
    "from keras.datasets import mnist, cifar10\n",
    "(x_train, y_train), (x_test, y_test) = mnist.load_data()\n",
    "x_train, x_test = x_train / 255.0, x_test / 255.0\n",
    "x_val, x_test, y_val, y_test = train_test_split(x_test, y_test, test_size=0.5, random_state=1)\n",
    "\n",
    "train_dataset = tf.data.Dataset.from_tensor_slices(\n",
    "    (x_train, y_train)).shuffle(10000).batch(BATCH_SIZE)\n",
    "\n",
    "val_dataset = tf.data.Dataset.from_tensor_slices(\n",
    "    (x_val, y_val)).batch(BATCH_SIZE)\n",
    "\n",
    "test_dataset = tf.data.Dataset.from_tensor_slices(\n",
    "    (x_test, y_test)).batch(BATCH_SIZE)"
   ]
  },
  {
   "cell_type": "markdown",
   "metadata": {
    "id": "_ad6pujxmp-C"
   },
   "source": [
    "#### Model Definition"
   ]
  },
  {
   "cell_type": "code",
   "execution_count": null,
   "metadata": {
    "id": "DBs9XMlpXv-a"
   },
   "outputs": [],
   "source": [
    "class Net(keras.Model):\n",
    "  def __init__(self, img_size, number_of_classes=10):\n",
    "    super(Net, self).__init__()\n",
    "    self.d1 = keras.layers.Dense(64, input_shape=[np.prod(img_size[1:])], activation='relu')\n",
    "    self.d2 = keras.layers.Dense(number_of_classes, activation='softmax')\n",
    "    self.flat = keras.layers.Flatten()\n",
    "\n",
    "  def call(self, x):\n",
    "    x = self.flat(x)\n",
    "    x = self.d1(x)\n",
    "    return self.d2(x)\n",
    "\n",
    "model = Net(x_train.shape[1:])"
   ]
  },
  {
   "cell_type": "markdown",
   "metadata": {
    "id": "Ysgqbkpmm-Wn"
   },
   "source": [
    "#### Loss Function"
   ]
  },
  {
   "cell_type": "code",
   "execution_count": null,
   "metadata": {
    "id": "vPtMOjq3m-pr"
   },
   "outputs": [],
   "source": [
    "loss_fn = tf.keras.losses.SparseCategoricalCrossentropy()"
   ]
  },
  {
   "cell_type": "markdown",
   "metadata": {
    "id": "UV5ozxWknFOg"
   },
   "source": [
    "#### Optimizer"
   ]
  },
  {
   "cell_type": "code",
   "execution_count": null,
   "metadata": {
    "id": "przRtkS8nFjl"
   },
   "outputs": [],
   "source": [
    "optimizer = tf.keras.optimizers.Adam()"
   ]
  },
  {
   "cell_type": "markdown",
   "metadata": {
    "id": "8XdhzRGxmut2"
   },
   "source": [
    "#### Training Step"
   ]
  },
  {
   "cell_type": "code",
   "execution_count": null,
   "metadata": {
    "id": "5sCK-rsdnRaG"
   },
   "outputs": [],
   "source": [
    "@tf.function\n",
    "def train_step(X, y):\n",
    "  with tf.GradientTape() as tape:\n",
    "    predictions = model(X)\n",
    "    loss = loss_fn(y, predictions)\n",
    "  gradients = tape.gradient(loss, model.trainable_variables)\n",
    "  optimizer.apply_gradients(zip(gradients, model.trainable_variables))\n",
    "\n",
    "  train_loss(loss)\n",
    "  train_accuracy(y, predictions)"
   ]
  },
  {
   "cell_type": "markdown",
   "metadata": {
    "id": "kUJTBcefoLSn"
   },
   "source": [
    "#### Test Step"
   ]
  },
  {
   "cell_type": "code",
   "execution_count": null,
   "metadata": {
    "id": "or4cPEZSoLkM"
   },
   "outputs": [],
   "source": [
    "@tf.function\n",
    "def test_step(X, y):\n",
    "  predictions = model(X)\n",
    "  t_loss = loss_fn(y, predictions)\n",
    "\n",
    "  val_loss(t_loss)\n",
    "  val_accuracy(y, predictions)"
   ]
  },
  {
   "cell_type": "markdown",
   "metadata": {
    "id": "bcAj0J0NoVju"
   },
   "source": [
    "#### Training"
   ]
  },
  {
   "cell_type": "code",
   "execution_count": null,
   "metadata": {
    "colab": {
     "base_uri": "https://localhost:8080/",
     "height": 156
    },
    "id": "Ui7c44X0oV4F",
    "outputId": "014e0078-d450-44f6-a832-65f6d565395a"
   },
   "outputs": [
    {
     "name": "stderr",
     "output_type": "stream",
     "text": [
      "\r",
      "  0%|          | 0/5 [00:00<?, ?it/s]"
     ]
    },
    {
     "name": "stdout",
     "output_type": "stream",
     "text": [
      "WARNING:tensorflow:Layer net is casting an input tensor from dtype float64 to the layer's dtype of float32, which is new behavior in TensorFlow 2.  The layer has dtype float32 because it's dtype defaults to floatx.\n",
      "\n",
      "If you intended to run this layer in float32, you can safely ignore this warning. If in doubt, this warning is likely only an issue if you are porting a TensorFlow 1.X model to TensorFlow 2.\n",
      "\n",
      "To change all layers to have dtype float64 by default, call `tf.keras.backend.set_floatx('float64')`. To change just this layer, pass dtype='float64' to the layer constructor. If you are the author of this layer, you can disable autocasting by passing autocast=False to the base Layer constructor.\n",
      "\n"
     ]
    },
    {
     "name": "stderr",
     "output_type": "stream",
     "text": [
      "100%|██████████| 5/5 [00:16<00:00,  3.37s/it]\n"
     ]
    }
   ],
   "source": [
    "train_loss = tf.keras.metrics.Mean(name='train_loss')\n",
    "train_accuracy = tf.keras.metrics.SparseCategoricalAccuracy(name='train_accuracy')\n",
    "val_loss = tf.keras.metrics.Mean(name='val_loss')\n",
    "val_accuracy = tf.keras.metrics.SparseCategoricalAccuracy(name='val_accuracy')\n",
    "\n",
    "loss_history = []\n",
    "acc_history = []\n",
    "for epoch in tqdm(range(EPOCHS)):\n",
    "    # Reset the metrics at the start of the next epoch\n",
    "    train_loss.reset_states()\n",
    "    train_accuracy.reset_states()\n",
    "    val_loss.reset_states()\n",
    "    val_accuracy.reset_states()\n",
    "\n",
    "    for images, labels in train_dataset:\n",
    "        train_step(images, labels)\n",
    "\n",
    "    for val_images, val_labels in val_dataset:\n",
    "        test_step(val_images, val_labels)\n",
    "\n",
    "    loss_history.append((train_loss.result(), val_loss.result()))\n",
    "    acc_history.append((train_accuracy.result(), val_accuracy.result()))"
   ]
  },
  {
   "cell_type": "markdown",
   "metadata": {
    "id": "TSFfSpY2mxVB"
   },
   "source": [
    "#### Testing/Evaluation Step"
   ]
  },
  {
   "cell_type": "code",
   "execution_count": null,
   "metadata": {
    "colab": {
     "base_uri": "https://localhost:8080/",
     "height": 351
    },
    "id": "6hqhOHQNXyct",
    "outputId": "2bcf5137-f218-430d-d845-f804008813d9"
   },
   "outputs": [
    {
     "data": {
      "text/plain": [
       "<matplotlib.legend.Legend at 0x7fc2f2cba668>"
      ]
     },
     "execution_count": 41,
     "metadata": {
      "tags": []
     },
     "output_type": "execute_result"
    },
    {
     "data": {
      "image/png": "[encoded data removed]",
      "text/plain": [
       "<Figure size 1080x360 with 2 Axes>"
      ]
     },
     "metadata": {
      "tags": []
     },
     "output_type": "display_data"
    }
   ],
   "source": [
    "fig, axs = plt.subplots(1,2,figsize=(15,5))\n",
    "loss_history = np.array(loss_history)\n",
    "acc_history = np.array(acc_history)\n",
    "epochs_range = range(len(loss_history))\n",
    "\n",
    "axs[0].plot(epochs_range, loss_history[:, 0])\n",
    "axs[0].plot(epochs_range, loss_history[:, 1])\n",
    "axs[0].set_xlabel('Epoch')\n",
    "axs[0].set_ylabel('Loss')\n",
    "axs[0].legend(['loss', 'val_loss'])\n",
    "\n",
    "axs[1].plot(epochs_range, acc_history[:, 0])\n",
    "axs[1].plot(epochs_range, acc_history[:, 1])\n",
    "axs[1].set_xlabel('Epoch')\n",
    "axs[1].set_ylabel('Accuracy')\n",
    "axs[1].legend(['accuracy', 'val_accuracy'])"
   ]
  },
  {
   "cell_type": "code",
   "execution_count": null,
   "metadata": {
    "colab": {
     "base_uri": "https://localhost:8080/",
     "height": 51
    },
    "id": "aezRcrQEX6j7",
    "outputId": "274dc9ad-c2c4-49ad-f30a-0bc88acd968f"
   },
   "outputs": [
    {
     "name": "stdout",
     "output_type": "stream",
     "text": [
      "\n",
      "Test accuracy: 0.9692\n"
     ]
    }
   ],
   "source": [
    "test_accuracy = tf.keras.metrics.SparseCategoricalAccuracy(name='val_accuracy')\n",
    "for X, y in test_dataset:\n",
    "    predictions = model(X)\n",
    "    test_accuracy(y, predictions)\n",
    "print('\\nTest accuracy:', test_accuracy.result().numpy())"
   ]
  },
  {
   "cell_type": "markdown",
   "metadata": {
    "id": "JwbB0wy7R1im"
   },
   "source": [
    "## Convolutional Neural Network"
   ]
  },
  {
   "cell_type": "markdown",
   "metadata": {
    "id": "xXrHbFAUy5yn"
   },
   "source": [
    "![alt text](https://miro.medium.com/max/1170/1*Fw-ehcNBR9byHtho-Rxbtw.gif)"
   ]
  },
  {
   "cell_type": "markdown",
   "metadata": {
    "id": "VTRqsk4OSHsm"
   },
   "source": [
    "### PyTorch"
   ]
  },
  {
   "cell_type": "markdown",
   "metadata": {
    "id": "Bjw2awz0tV0Y"
   },
   "source": [
    "#### Repeated from Previous PyTorch Section "
   ]
  },
  {
   "cell_type": "code",
   "execution_count": null,
   "metadata": {
    "id": "l1rSn28vtU03"
   },
   "outputs": [],
   "source": [
    "from keras.datasets import mnist, cifar10\n",
    "(x_train, y_train), (x_test, y_test) = mnist.load_data()\n",
    "x_val, x_test, y_val, y_test = train_test_split(x_test, y_test, test_size=0.5, random_state=1)\n",
    "\n",
    "x_train, y_train = normalize_data(x_train, y_train, flat=False)\n",
    "x_val, y_val = normalize_data(x_val, y_val, flat=False)\n",
    "x_test, y_test = normalize_data(x_test, y_test, flat=False)\n",
    "dataset = torch.utils.data.TensorDataset(x_train, y_train)\n",
    "dataset = torch.utils.data.DataLoader(dataset, BATCH_SIZE)\n",
    "val_dataset = torch.utils.data.TensorDataset(x_val, y_val)\n",
    "val_dataset = torch.utils.data.DataLoader(val_dataset)\n",
    "test_dataset = torch.utils.data.TensorDataset(x_test, y_test)\n",
    "test_dataset = torch.utils.data.DataLoader(test_dataset)\n",
    "\n",
    "loss_fn = torch.nn.CrossEntropyLoss()"
   ]
  },
  {
   "cell_type": "markdown",
   "metadata": {
    "id": "5E5l3xH4SSAQ"
   },
   "source": [
    "#### Model Definition\n"
   ]
  },
  {
   "cell_type": "code",
   "execution_count": null,
   "metadata": {
    "id": "v8rjMe8USUbl"
   },
   "outputs": [],
   "source": [
    "class Net(torch.nn.Module):\n",
    "    def __init__(self, img_size):\n",
    "        super(Net, self).__init__()\n",
    "        self.conv1 = torch.nn.Conv2d(img_size[0], 16, 3, padding=1)\n",
    "        self.pool = torch.nn.MaxPool2d(2)\n",
    "        self.conv2 = torch.nn.Conv2d(16, 32, 3, padding=1)\n",
    "        self.fc1 = torch.nn.Linear(32 * (img_size[1]//4) * (img_size[1]//4), 512)\n",
    "        self.fc2 = torch.nn.Linear(512, 256)\n",
    "        self.fc3 = torch.nn.Linear(256, number_of_classes)\n",
    "        self.img_size = img_size\n",
    "\n",
    "    def forward(self, x):\n",
    "        x = self.pool(F.relu(self.conv1(x)))\n",
    "        x = self.pool(F.relu(self.conv2(x)))\n",
    "        x = x.view(-1, 32 * (self.img_size[1]//4) * (self.img_size[1]//4))\n",
    "        x = F.relu(self.fc1(x))\n",
    "        x = F.relu(self.fc2(x))\n",
    "        x = self.fc3(x)\n",
    "        return x\n",
    "\n",
    "model = Net(x_train.shape[1:])\n",
    "model.cuda()\n",
    "optimizer = torch.optim.Adam(model.parameters())"
   ]
  },
  {
   "cell_type": "markdown",
   "metadata": {
    "id": "ipKaJpHYTBjZ"
   },
   "source": [
    "#### Running the Training"
   ]
  },
  {
   "cell_type": "code",
   "execution_count": null,
   "metadata": {
    "colab": {
     "base_uri": "https://localhost:8080/",
     "height": 34
    },
    "id": "cZMYQN0kTAnF",
    "outputId": "c5558339-f013-497a-9614-f6c7adbeb29a"
   },
   "outputs": [
    {
     "name": "stderr",
     "output_type": "stream",
     "text": [
      "100%|██████████| 5/5 [01:12<00:00, 14.49s/it]\n"
     ]
    }
   ],
   "source": [
    "loss_history = []\n",
    "acc_history = []\n",
    "for i in tqdm(range(EPOCHS)):\n",
    "    train_loss, train_acc = train(model, dataset, optimizer)\n",
    "    val_loss, val_acc = test(model, val_dataset)\n",
    "    loss_history.append((train_loss, val_loss))\n",
    "    acc_history.append((train_acc, val_acc))"
   ]
  },
  {
   "cell_type": "markdown",
   "metadata": {
    "id": "RlipVjB2y95B"
   },
   "source": [
    "#### Testing/Evaluation Step"
   ]
  },
  {
   "cell_type": "code",
   "execution_count": null,
   "metadata": {
    "colab": {
     "base_uri": "https://localhost:8080/",
     "height": 351
    },
    "id": "6qO4JErJTIOL",
    "outputId": "c0be5ba2-c771-424a-caf7-c91eac173aea"
   },
   "outputs": [
    {
     "data": {
      "text/plain": [
       "<matplotlib.legend.Legend at 0x7fc2f2ce7a90>"
      ]
     },
     "execution_count": 46,
     "metadata": {
      "tags": []
     },
     "output_type": "execute_result"
    },
    {
     "data": {
      "image/png": "[encoded data removed]",
      "text/plain": [
       "<Figure size 1080x360 with 2 Axes>"
      ]
     },
     "metadata": {
      "tags": []
     },
     "output_type": "display_data"
    }
   ],
   "source": [
    "fig, axs = plt.subplots(1,2,figsize=(15,5))\n",
    "loss_history = np.array(loss_history)\n",
    "acc_history = np.array(acc_history)\n",
    "epochs_range = range(len(loss_history))\n",
    "axs[0].plot(epochs_range, loss_history[:, 0])\n",
    "axs[0].plot(epochs_range, loss_history[:, 1])\n",
    "axs[0].set_xlabel('Epoch')\n",
    "axs[0].set_ylabel('Loss')\n",
    "axs[0].legend(['loss', 'val_loss'])\n",
    "\n",
    "axs[1].plot(epochs_range, acc_history[:, 0])\n",
    "axs[1].plot(epochs_range, acc_history[:, 1])\n",
    "axs[1].set_xlabel('Epoch')\n",
    "axs[1].set_ylabel('Accuracy')\n",
    "axs[1].legend(['accuracy', 'val_accuracy'])"
   ]
  },
  {
   "cell_type": "code",
   "execution_count": null,
   "metadata": {
    "colab": {
     "base_uri": "https://localhost:8080/",
     "height": 34
    },
    "id": "jKbIDDNgTTQf",
    "outputId": "408a9a9b-d1b4-49cf-c0ee-b6a0c4a8855f"
   },
   "outputs": [
    {
     "name": "stdout",
     "output_type": "stream",
     "text": [
      "Test Dataset Loss: 0.03660494813919067, Accuracy: 0.99\n"
     ]
    }
   ],
   "source": [
    "loss, acc = test(model, test_dataset)\n",
    "print(f\"Test Dataset Loss: {loss}, Accuracy: {acc}\")"
   ]
  },
  {
   "cell_type": "markdown",
   "metadata": {
    "id": "ss6d9kuBSJiJ"
   },
   "source": [
    "### TensorFlow"
   ]
  },
  {
   "cell_type": "markdown",
   "metadata": {
    "id": "8HAsq3z9wnPy"
   },
   "source": [
    "#### Repeated from Previous TensorFlow Section "
   ]
  },
  {
   "cell_type": "code",
   "execution_count": null,
   "metadata": {
    "id": "YJ4d1z9ewo_N"
   },
   "outputs": [],
   "source": [
    "from keras.datasets import mnist, cifar10\n",
    "(x_train, y_train), (x_test, y_test) = mnist.load_data()\n",
    "x_train, x_test = x_train / 255.0, x_test / 255.0\n",
    "x_val, x_test, y_val, y_test = train_test_split(x_test, y_test, test_size=0.5, random_state=1)\n",
    "\n",
    "if len(x_train.shape) < 4:\n",
    "    x_train = x_train[..., tf.newaxis]\n",
    "    x_test = x_test[..., tf.newaxis]\n",
    "    x_val = x_val[..., tf.newaxis]\n",
    "\n",
    "train_dataset = tf.data.Dataset.from_tensor_slices(\n",
    "    (x_train, y_train)).shuffle(10000).batch(BATCH_SIZE)\n",
    "\n",
    "val_dataset = tf.data.Dataset.from_tensor_slices(\n",
    "    (x_val, y_val)).batch(BATCH_SIZE)\n",
    "\n",
    "test_dataset = tf.data.Dataset.from_tensor_slices(\n",
    "    (x_test, y_test)).batch(BATCH_SIZE)\n",
    "\n",
    "\n",
    "loss_fn = tf.keras.losses.SparseCategoricalCrossentropy()\n",
    "optimizer = tf.keras.optimizers.Adam()\n",
    "\n",
    "@tf.function\n",
    "def train_step(X, y):\n",
    "  with tf.GradientTape() as tape:\n",
    "    predictions = model(X)\n",
    "    loss = loss_fn(y, predictions)\n",
    "  gradients = tape.gradient(loss, model.trainable_variables)\n",
    "  optimizer.apply_gradients(zip(gradients, model.trainable_variables))\n",
    "\n",
    "  train_loss(loss)\n",
    "  train_accuracy(y, predictions)\n",
    "\n",
    "@tf.function\n",
    "def test_step(X, y):\n",
    "  predictions = model(X)\n",
    "  t_loss = loss_fn(y, predictions)\n",
    "\n",
    "  val_loss(t_loss)\n",
    "  val_accuracy(y, predictions)"
   ]
  },
  {
   "cell_type": "markdown",
   "metadata": {
    "id": "qKzqRxh8vQQJ"
   },
   "source": [
    "#### Model Definition\n"
   ]
  },
  {
   "cell_type": "code",
   "execution_count": null,
   "metadata": {
    "id": "x_xfHF2svQ4v"
   },
   "outputs": [],
   "source": [
    "class Net(keras.Model):\n",
    "  def __init__(self, img_size, number_of_classes=10):\n",
    "    super(Net, self).__init__()\n",
    "    self.conv1 = keras.layers.Conv2D(16, 3, input_shape=img_size, activation='relu', padding='same')\n",
    "    self.conv2 = keras.layers.Conv2D(32, 3, input_shape=img_size, activation='relu', padding='same')\n",
    "    self.pool = keras.layers.MaxPool2D(2)\n",
    "    self.flatten = keras.layers.Flatten()\n",
    "    self.d1 = keras.layers.Dense(512, activation='relu')\n",
    "    self.d2 = keras.layers.Dense(256, activation='relu')\n",
    "    self.d3 = keras.layers.Dense(10, activation='softmax')\n",
    "\n",
    "  def call(self, x):\n",
    "    x = self.conv1(x)\n",
    "    x = self.pool(x)\n",
    "    x = self.conv2(x)\n",
    "    x = self.pool(x)\n",
    "    x = self.flatten(x)\n",
    "    x = self.d1(x)\n",
    "    x = self.d2(x)\n",
    "    return self.d3(x)\n",
    "\n",
    "model = Net(x_train.shape[1:])"
   ]
  },
  {
   "cell_type": "markdown",
   "metadata": {
    "id": "gC0ZiKGcw0TY"
   },
   "source": [
    "#### Training"
   ]
  },
  {
   "cell_type": "code",
   "execution_count": null,
   "metadata": {
    "colab": {
     "base_uri": "https://localhost:8080/",
     "height": 156
    },
    "id": "xjeY1nm-w0mC",
    "outputId": "d1801c5c-895f-4826-a0f5-4615cc25eb47"
   },
   "outputs": [
    {
     "name": "stderr",
     "output_type": "stream",
     "text": [
      "\r",
      "  0%|          | 0/5 [00:00<?, ?it/s]"
     ]
    },
    {
     "name": "stdout",
     "output_type": "stream",
     "text": [
      "WARNING:tensorflow:Layer net_1 is casting an input tensor from dtype float64 to the layer's dtype of float32, which is new behavior in TensorFlow 2.  The layer has dtype float32 because it's dtype defaults to floatx.\n",
      "\n",
      "If you intended to run this layer in float32, you can safely ignore this warning. If in doubt, this warning is likely only an issue if you are porting a TensorFlow 1.X model to TensorFlow 2.\n",
      "\n",
      "To change all layers to have dtype float64 by default, call `tf.keras.backend.set_floatx('float64')`. To change just this layer, pass dtype='float64' to the layer constructor. If you are the author of this layer, you can disable autocasting by passing autocast=False to the base Layer constructor.\n",
      "\n"
     ]
    },
    {
     "name": "stderr",
     "output_type": "stream",
     "text": [
      "100%|██████████| 5/5 [00:26<00:00,  5.40s/it]\n"
     ]
    }
   ],
   "source": [
    "train_loss = tf.keras.metrics.Mean(name='train_loss')\n",
    "train_accuracy = tf.keras.metrics.SparseCategoricalAccuracy(name='train_accuracy')\n",
    "val_loss = tf.keras.metrics.Mean(name='val_loss')\n",
    "val_accuracy = tf.keras.metrics.SparseCategoricalAccuracy(name='val_accuracy')\n",
    "\n",
    "loss_history = []\n",
    "acc_history = []\n",
    "for epoch in tqdm(range(EPOCHS)):\n",
    "    # Reset the metrics at the start of the next epoch\n",
    "    train_loss.reset_states()\n",
    "    train_accuracy.reset_states()\n",
    "    val_loss.reset_states()\n",
    "    val_accuracy.reset_states()\n",
    "\n",
    "    for images, labels in train_dataset:\n",
    "        train_step(images, labels)\n",
    "\n",
    "    for val_images, val_labels in val_dataset:\n",
    "        test_step(val_images, val_labels)\n",
    "\n",
    "    loss_history.append((train_loss.result(), val_loss.result()))\n",
    "    acc_history.append((train_accuracy.result(), val_accuracy.result()))"
   ]
  },
  {
   "cell_type": "markdown",
   "metadata": {
    "id": "2Yh_rPViw5Ay"
   },
   "source": [
    "#### Testing/Evaluation Step"
   ]
  },
  {
   "cell_type": "code",
   "execution_count": null,
   "metadata": {
    "colab": {
     "base_uri": "https://localhost:8080/",
     "height": 351
    },
    "id": "2R8AQRsHw5SE",
    "outputId": "cdc7c72d-66a9-4a01-f233-b00fd037c836"
   },
   "outputs": [
    {
     "data": {
      "text/plain": [
       "<matplotlib.legend.Legend at 0x7fc2f38d7f60>"
      ]
     },
     "execution_count": 51,
     "metadata": {
      "tags": []
     },
     "output_type": "execute_result"
    },
    {
     "data": {
      "image/png": "[encoded data removed]",
      "text/plain": [
       "<Figure size 1080x360 with 2 Axes>"
      ]
     },
     "metadata": {
      "tags": []
     },
     "output_type": "display_data"
    }
   ],
   "source": [
    "fig, axs = plt.subplots(1,2,figsize=(15,5))\n",
    "loss_history = np.array(loss_history)\n",
    "acc_history = np.array(acc_history)\n",
    "epochs_range = range(len(loss_history))\n",
    "\n",
    "axs[0].plot(epochs_range, loss_history[:, 0])\n",
    "axs[0].plot(epochs_range, loss_history[:, 1])\n",
    "axs[0].set_xlabel('Epoch')\n",
    "axs[0].set_ylabel('Loss')\n",
    "axs[0].legend(['loss', 'val_loss'])\n",
    "\n",
    "axs[1].plot(epochs_range, acc_history[:, 0])\n",
    "axs[1].plot(epochs_range, acc_history[:, 1])\n",
    "axs[1].set_xlabel('Epoch')\n",
    "axs[1].set_ylabel('Accuracy')\n",
    "axs[1].legend(['accuracy', 'val_accuracy'])"
   ]
  },
  {
   "cell_type": "code",
   "execution_count": null,
   "metadata": {
    "colab": {
     "base_uri": "https://localhost:8080/",
     "height": 51
    },
    "id": "q7vvFlDPxtkT",
    "outputId": "ef1cc904-96ce-42b9-d07c-f55f1e71f51f"
   },
   "outputs": [
    {
     "name": "stdout",
     "output_type": "stream",
     "text": [
      "\n",
      "Test accuracy: 0.9886\n"
     ]
    }
   ],
   "source": [
    "test_accuracy = tf.keras.metrics.SparseCategoricalAccuracy(name='val_accuracy')\n",
    "for X, y in test_dataset:\n",
    "    predictions = model(X)\n",
    "    test_accuracy(y, predictions)\n",
    "print('\\nTest accuracy:', test_accuracy.result().numpy())"
   ]
  }
 ],
 "metadata": {
  "accelerator": "GPU",
  "colab": {
   "collapsed_sections": [],
   "name": "tutorial.ipynb",
   "provenance": [],
   "toc_visible": true
  },
  "kernelspec": {
   "display_name": "Python 3",
   "language": "python",
   "name": "python3"
  },
  "language_info": {
   "codemirror_mode": {
    "name": "ipython",
    "version": 3
   },
   "file_extension": ".py",
   "mimetype": "text/x-python",
   "name": "python",
   "nbconvert_exporter": "python",
   "pygments_lexer": "ipython3",
   "version": "3.8.8"
  }
 },
 "nbformat": 4,
 "nbformat_minor": 1
}
