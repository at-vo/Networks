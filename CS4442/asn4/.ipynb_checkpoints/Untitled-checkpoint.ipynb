{
 "cells": [
  {
   "cell_type": "code",
   "execution_count": 1,
   "id": "241cfaa9",
   "metadata": {},
   "outputs": [],
   "source": [
    "import torch\n",
    "import tensorflow as tf\n",
    "from tensorflow import keras\n",
    "import numpy as np\n",
    "import matplotlib.pyplot as plt \n",
    "from torchvision import datasets, transforms, models\n",
    "from tqdm import tqdm"
   ]
  },
  {
   "cell_type": "code",
   "execution_count": 2,
   "id": "37e472ff",
   "metadata": {},
   "outputs": [],
   "source": [
    "BATCH_SIZE = 32\n",
    "EPOCHS = 5"
   ]
  },
  {
   "cell_type": "code",
   "execution_count": 3,
   "id": "01ab07b8",
   "metadata": {},
   "outputs": [],
   "source": [
    "def normalize_data(x_train, y_train, flat=True):\n",
    "    x_train = x_train / 255\n",
    "    if len(x_train.shape) < 4:\n",
    "        x_train = x_train[..., None]\n",
    "    x_train = x_train.transpose([0, 3, 1, 2])\n",
    "    x_train = x_train.astype(np.float32)\n",
    "    x_train = torch.from_numpy(x_train)\n",
    "    if flat:\n",
    "        x_train = torch.flatten(x_train, 1)\n",
    "    y_train = y_train.astype(np.int64)\n",
    "    return x_train, torch.from_numpy(y_train).view(-1)"
   ]
  },
  {
   "cell_type": "markdown",
   "id": "interior-detector",
   "metadata": {},
   "source": [
    "#### Constants"
   ]
  },
  {
   "cell_type": "code",
   "execution_count": 4,
   "id": "signed-provider",
   "metadata": {},
   "outputs": [],
   "source": [
    "BATCH_SIZE = 32\n",
    "EPOCHS = 50\n",
    "CLASS_NAMES= ['airplane', 'automobile', 'bird', 'cat', 'deer', 'dog', 'frog', 'horse', 'ship', 'truck']"
   ]
  },
  {
   "cell_type": "markdown",
   "id": "superior-reply",
   "metadata": {},
   "source": [
    "#### Dataset Loading from Keras"
   ]
  },
  {
   "cell_type": "code",
   "execution_count": 5,
   "id": "1b0582b0",
   "metadata": {
    "id": "GSit803TjFA-"
   },
   "outputs": [
    {
     "name": "stdout",
     "output_type": "stream",
     "text": [
      "Downloading data from https://storage.googleapis.com/tensorflow/tf-keras-datasets/mnist.npz\n",
      "11493376/11490434 [==============================] - 0s 0us/step\n"
     ]
    },
    {
     "ename": "NameError",
     "evalue": "name 'train_test_split' is not defined",
     "output_type": "error",
     "traceback": [
      "\u001b[1;31m---------------------------------------------------------------------------\u001b[0m",
      "\u001b[1;31mNameError\u001b[0m                                 Traceback (most recent call last)",
      "\u001b[1;32m<ipython-input-5-b99650407ddd>\u001b[0m in \u001b[0;36m<module>\u001b[1;34m\u001b[0m\n\u001b[0;32m      1\u001b[0m \u001b[1;32mfrom\u001b[0m \u001b[0mkeras\u001b[0m\u001b[1;33m.\u001b[0m\u001b[0mdatasets\u001b[0m \u001b[1;32mimport\u001b[0m \u001b[0mmnist\u001b[0m\u001b[1;33m,\u001b[0m \u001b[0mcifar10\u001b[0m\u001b[1;33m\u001b[0m\u001b[1;33m\u001b[0m\u001b[0m\n\u001b[0;32m      2\u001b[0m \u001b[1;33m(\u001b[0m\u001b[0mx_train\u001b[0m\u001b[1;33m,\u001b[0m \u001b[0my_train\u001b[0m\u001b[1;33m)\u001b[0m\u001b[1;33m,\u001b[0m \u001b[1;33m(\u001b[0m\u001b[0mx_test\u001b[0m\u001b[1;33m,\u001b[0m \u001b[0my_test\u001b[0m\u001b[1;33m)\u001b[0m \u001b[1;33m=\u001b[0m \u001b[0mmnist\u001b[0m\u001b[1;33m.\u001b[0m\u001b[0mload_data\u001b[0m\u001b[1;33m(\u001b[0m\u001b[1;33m)\u001b[0m\u001b[1;33m\u001b[0m\u001b[1;33m\u001b[0m\u001b[0m\n\u001b[1;32m----> 3\u001b[1;33m \u001b[0mx_val\u001b[0m\u001b[1;33m,\u001b[0m \u001b[0mx_test\u001b[0m\u001b[1;33m,\u001b[0m \u001b[0my_val\u001b[0m\u001b[1;33m,\u001b[0m \u001b[0my_test\u001b[0m \u001b[1;33m=\u001b[0m \u001b[0mtrain_test_split\u001b[0m\u001b[1;33m(\u001b[0m\u001b[0mx_test\u001b[0m\u001b[1;33m,\u001b[0m \u001b[0my_test\u001b[0m\u001b[1;33m,\u001b[0m \u001b[0mtest_size\u001b[0m\u001b[1;33m=\u001b[0m\u001b[1;36m0.5\u001b[0m\u001b[1;33m,\u001b[0m \u001b[0mrandom_state\u001b[0m\u001b[1;33m=\u001b[0m\u001b[1;36m1\u001b[0m\u001b[1;33m)\u001b[0m\u001b[1;33m\u001b[0m\u001b[1;33m\u001b[0m\u001b[0m\n\u001b[0m\u001b[0;32m      4\u001b[0m \u001b[1;33m\u001b[0m\u001b[0m\n\u001b[0;32m      5\u001b[0m \u001b[0mx_train\u001b[0m\u001b[1;33m,\u001b[0m \u001b[0my_train\u001b[0m \u001b[1;33m=\u001b[0m \u001b[0mnormalize_data\u001b[0m\u001b[1;33m(\u001b[0m\u001b[0mx_train\u001b[0m\u001b[1;33m,\u001b[0m \u001b[0my_train\u001b[0m\u001b[1;33m)\u001b[0m\u001b[1;33m\u001b[0m\u001b[1;33m\u001b[0m\u001b[0m\n",
      "\u001b[1;31mNameError\u001b[0m: name 'train_test_split' is not defined"
     ]
    }
   ],
   "source": [
    "from keras.datasets import cifar10\n",
    "(x_train, y_train), (x_test, y_test) = keras.datasets.cifar10.load_data()\n",
    "# consider 1 training batch as validation\n",
    "x_val, y_val = x_train[:10000], y_train[:10000]\n",
    "# consider 4 training batches\n",
    "x_train, y_train = x_train[10000:], y_train[10000:]\n",
    "\n",
    "x_train, y_train = normalize_data(x_train, y_train)\n",
    "x_val, y_val = normalize_data(x_val, y_val)\n",
    "x_test, y_test = normalize_data(x_test, y_test)\n",
    "dataset = torch.utils.data.TensorDataset(x_train, y_train)\n",
    "dataset = torch.utils.data.DataLoader(dataset, BATCH_SIZE)\n",
    "val_dataset = torch.utils.data.TensorDataset(x_val, y_val)\n",
    "val_dataset = torch.utils.data.DataLoader(val_dataset)\n",
    "test_dataset = torch.utils.data.TensorDataset(x_test, y_test)\n",
    "test_dataset = torch.utils.data.DataLoader(test_dataset)"
   ]
  },
  {
   "cell_type": "markdown",
   "id": "stock-paradise",
   "metadata": {},
   "source": [
    "#### Visualize DataSet Shape"
   ]
  },
  {
   "cell_type": "code",
   "execution_count": null,
   "id": "fossil-circuit",
   "metadata": {
    "scrolled": true
   },
   "outputs": [],
   "source": [
    "print(f\"Training Matrix Shape for data: {xTr.shape}\")\n",
    "print(f\"Training Matrix Shape for labels: {yTr.shape}\")\n",
    "print(f\"Validation Matrix Shape for data: {xVal.shape}\")\n",
    "print(f\"Validation Matrix Shape for labels: {yVal.shape}\")\n",
    "print(f\"Testing Matrix Shape for data: {xTe.shape}\")\n",
    "print(f\"Testing Matrix Shape for labels: {yTe.shape}\")"
   ]
  },
  {
   "cell_type": "markdown",
   "id": "778ee99c",
   "metadata": {},
   "source": [
    "#### Build fc6 Model"
   ]
  },
  {
   "cell_type": "code",
   "execution_count": null,
   "id": "24fa79a9",
   "metadata": {
    "scrolled": false
   },
   "outputs": [],
   "source": [
    "model = models.alexnet(pretrained=True)\n",
    "# Get Classifiers\n",
    "fc6 = torch.nn.Sequential(*list(alex.classifier.children())[:2])\n",
    "# change model\n",
    "model.classifier = fc6\n",
    "# send to GPU\n",
    "model.cuda()\n",
    "model.eval()"
   ]
  },
  {
   "cell_type": "markdown",
   "id": "47c8a81a",
   "metadata": {
    "id": "izs6InGymRPO"
   },
   "source": [
    "#### Training Step"
   ]
  },
  {
   "cell_type": "code",
   "execution_count": null,
   "id": "977198c9",
   "metadata": {
    "id": "Thj8-whagS9n"
   },
   "outputs": [],
   "source": [
    "def train( model, train_loader, optimizer):\n",
    "    model.train()\n",
    "    correct = 0\n",
    "    for batch_idx, (data, target) in enumerate(train_loader):\n",
    "        data, target = data.cuda(), target.cuda()\n",
    "        optimizer.zero_grad()\n",
    "        output = model(data)\n",
    "        loss = loss_fn(output, target)\n",
    "        loss.backward()\n",
    "        optimizer.step()\n",
    "        pred = output.argmax(dim=1, keepdim=True) \n",
    "        correct += pred.eq(target.view_as(pred)).sum().item()\n",
    "    return loss.item(), correct / len(train_loader.dataset)"
   ]
  },
  {
   "cell_type": "markdown",
   "id": "5669b4a5",
   "metadata": {
    "id": "swKVRIq7mTdn"
   },
   "source": [
    "#### Testing/Evaluation Step"
   ]
  },
  {
   "cell_type": "code",
   "execution_count": null,
   "id": "e3581ad3",
   "metadata": {
    "id": "KrmTzY4tgSsk"
   },
   "outputs": [],
   "source": [
    "def test( model, test_loader):\n",
    "    model.eval()\n",
    "    test_loss = 0\n",
    "    correct = 0\n",
    "    with torch.no_grad():\n",
    "        for data, target in test_loader:\n",
    "            data, target = data.cuda(), target.cuda()\n",
    "            output = model(data)\n",
    "            test_loss += loss_fn(output, target).item() \n",
    "            pred = output.argmax(dim=1, keepdim=True)  \n",
    "            correct += pred.eq(target.view_as(pred)).sum().item()\n",
    "\n",
    "    test_loss /= len(test_loader.dataset)\n",
    "    return test_loss,  correct / len(test_loader.dataset)"
   ]
  },
  {
   "cell_type": "markdown",
   "id": "928cf094",
   "metadata": {
    "id": "PZ5BelrxjP8c"
   },
   "source": [
    "#### Loss Function"
   ]
  },
  {
   "cell_type": "code",
   "execution_count": null,
   "id": "41541204",
   "metadata": {
    "id": "i6Qzc-Y0jQOb"
   },
   "outputs": [],
   "source": [
    "loss_fn = torch.nn.CrossEntropyLoss()"
   ]
  },
  {
   "cell_type": "markdown",
   "id": "a1841100",
   "metadata": {
    "id": "64Dq6KaJjYlF"
   },
   "source": [
    "#### Optimizer"
   ]
  },
  {
   "cell_type": "code",
   "execution_count": null,
   "id": "51c31b22",
   "metadata": {
    "id": "reVO8MSDjY6S"
   },
   "outputs": [],
   "source": [
    "optimizer = torch.optim.Adam(model.parameters())"
   ]
  },
  {
   "cell_type": "markdown",
   "id": "5b98b0d6",
   "metadata": {
    "id": "G8zTBzjMmY-O"
   },
   "source": [
    "#### Running the Training"
   ]
  },
  {
   "cell_type": "code",
   "execution_count": null,
   "id": "d8c05fc9",
   "metadata": {
    "colab": {
     "base_uri": "https://localhost:8080/",
     "height": 34
    },
    "id": "vszpbZX4RlS4",
    "outputId": "48712e13-02b8-42e7-9ebf-0e9bcc736aca"
   },
   "outputs": [],
   "source": [
    "loss_history = []\n",
    "acc_history = []\n",
    "for i in tqdm(range(EPOCHS)):\n",
    "    train_loss, train_acc = train(model, dataset, optimizer)\n",
    "    val_loss, val_acc = test(model, val_dataset)\n",
    "    loss_history.append((train_loss, val_loss))\n",
    "    acc_history.append((train_acc, val_acc))"
   ]
  },
  {
   "cell_type": "code",
   "execution_count": null,
   "id": "dcf71a70",
   "metadata": {
    "colab": {
     "base_uri": "https://localhost:8080/",
     "height": 352
    },
    "id": "u141c85jXfgS",
    "outputId": "789a83ac-6ff4-419c-9c71-9b0f714ea938"
   },
   "outputs": [],
   "source": [
    "fig, axs = plt.subplots(1,2,figsize=(15,5))\n",
    "loss_history = np.array(loss_history)\n",
    "acc_history = np.array(acc_history)\n",
    "epochs_range = range(len(loss_history))\n",
    "\n",
    "axs[0].plot(epochs_range, loss_history[:, 0])\n",
    "axs[0].plot(epochs_range, loss_history[:, 1])\n",
    "axs[0].set_xlabel('Epoch')\n",
    "axs[0].set_ylabel('Loss')\n",
    "axs[0].legend(['loss', 'val_loss'])\n",
    "\n",
    "axs[1].plot(epochs_range, acc_history[:, 0])\n",
    "axs[1].plot(epochs_range, acc_history[:, 1])\n",
    "axs[1].set_xlabel('Epoch')\n",
    "axs[1].set_ylabel('Accuracy')\n",
    "axs[1].legend(['accuracy', 'val_accuracy'])"
   ]
  },
  {
   "cell_type": "code",
   "execution_count": null,
   "id": "2d83cf02",
   "metadata": {
    "colab": {
     "base_uri": "https://localhost:8080/",
     "height": 34
    },
    "id": "wDmTC3mqnMY_",
    "outputId": "14305ac3-86bf-4bf7-a54d-683a1d5e51e4",
    "scrolled": true
   },
   "outputs": [],
   "source": [
    "loss, acc = test(model, test_dataset)\n",
    "print(f\"Test Dataset Loss: {loss}, Accuracy: {acc}\")"
   ]
  },
  {
   "cell_type": "code",
   "execution_count": null,
   "id": "e839b9ac",
   "metadata": {},
   "outputs": [],
   "source": []
  }
 ],
 "metadata": {
  "kernelspec": {
   "display_name": "Python 3",
   "language": "python",
   "name": "python3"
  },
  "language_info": {
   "codemirror_mode": {
    "name": "ipython",
    "version": 3
   },
   "file_extension": ".py",
   "mimetype": "text/x-python",
   "name": "python",
   "nbconvert_exporter": "python",
   "pygments_lexer": "ipython3",
   "version": "3.8.9"
  }
 },
 "nbformat": 4,
 "nbformat_minor": 5
}
