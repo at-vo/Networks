{
 "cells": [
  {
   "cell_type": "code",
   "execution_count": 1,
   "id": "realistic-shirt",
   "metadata": {
    "scrolled": true
   },
   "outputs": [
    {
     "name": "stdout",
     "output_type": "stream",
     "text": [
      "2.4.0\n"
     ]
    }
   ],
   "source": [
    "import torch\n",
    "import tensorflow as tf\n",
    "from tensorflow import keras\n",
    "import numpy as np\n",
    "import matplotlib.pyplot as plt \n",
    "from torchvision import datasets, transforms, models\n",
    "from tqdm import tqdm\n",
    "print(tf.__version__)"
   ]
  },
  {
   "cell_type": "markdown",
   "id": "interior-detector",
   "metadata": {},
   "source": [
    "#### Constants"
   ]
  },
  {
   "cell_type": "code",
   "execution_count": 2,
   "id": "signed-provider",
   "metadata": {},
   "outputs": [],
   "source": [
    "BATCH_SIZE = 32\n",
    "CLASS_NAMES= ['airplane', 'automobile', 'bird', 'cat', 'deer', 'dog', 'frog', 'horse', 'ship', 'truck']"
   ]
  },
  {
   "cell_type": "markdown",
   "id": "superior-reply",
   "metadata": {},
   "source": [
    "#### Dataset Loading from Keras"
   ]
  },
  {
   "cell_type": "code",
   "execution_count": 3,
   "id": "quick-france",
   "metadata": {},
   "outputs": [],
   "source": [
    "from keras.datasets import cifar10\n",
    "(xTr, yTr), (xTe, yTe) = keras.datasets.cifar10.load_data()\n",
    "\n",
    "# consider 1 training batch as validation\n",
    "xVal, yVal = xTr[:10000], yTr[:10000]\n",
    "# consider 4 training batches\n",
    "xTr, yTr = xTr[10000:], yTr[10000:]\n",
    "\n"
   ]
  },
  {
   "cell_type": "markdown",
   "id": "stock-paradise",
   "metadata": {},
   "source": [
    "#### Visualize DataSet Shape"
   ]
  },
  {
   "cell_type": "code",
   "execution_count": 4,
   "id": "fossil-circuit",
   "metadata": {
    "scrolled": true
   },
   "outputs": [
    {
     "name": "stdout",
     "output_type": "stream",
     "text": [
      "Training Matrix Shape for data: (40000, 32, 32, 3)\n",
      "Training Matrix Shape for labels: (40000, 1)\n",
      "Validation Matrix Shape for data: (10000, 32, 32, 3)\n",
      "Validation Matrix Shape for labels: (10000, 1)\n",
      "Testing Matrix Shape for data: (10000, 32, 32, 3)\n",
      "Testing Matrix Shape for labels: (10000, 1)\n"
     ]
    }
   ],
   "source": [
    "print(f\"Training Matrix Shape for data: {xTr.shape}\")\n",
    "print(f\"Training Matrix Shape for labels: {yTr.shape}\")\n",
    "print(f\"Validation Matrix Shape for data: {xVal.shape}\")\n",
    "print(f\"Validation Matrix Shape for labels: {yVal.shape}\")\n",
    "print(f\"Testing Matrix Shape for data: {xTe.shape}\")\n",
    "print(f\"Testing Matrix Shape for labels: {yTe.shape}\")"
   ]
  },
  {
   "cell_type": "markdown",
   "id": "da387d78",
   "metadata": {},
   "source": [
    "# (B) Classify the images in the CIFAR10 dataset"
   ]
  },
  {
   "cell_type": "markdown",
   "id": "increased-hostel",
   "metadata": {},
   "source": [
    "#### Model Definition"
   ]
  },
  {
   "cell_type": "code",
   "execution_count": 5,
   "id": "standing-vacation",
   "metadata": {
    "scrolled": false
   },
   "outputs": [
    {
     "data": {
      "text/plain": [
       "AlexNet(\n",
       "  (features): Sequential(\n",
       "    (0): Conv2d(3, 64, kernel_size=(11, 11), stride=(4, 4), padding=(2, 2))\n",
       "    (1): ReLU(inplace=True)\n",
       "    (2): MaxPool2d(kernel_size=3, stride=2, padding=0, dilation=1, ceil_mode=False)\n",
       "    (3): Conv2d(64, 192, kernel_size=(5, 5), stride=(1, 1), padding=(2, 2))\n",
       "    (4): ReLU(inplace=True)\n",
       "    (5): MaxPool2d(kernel_size=3, stride=2, padding=0, dilation=1, ceil_mode=False)\n",
       "    (6): Conv2d(192, 384, kernel_size=(3, 3), stride=(1, 1), padding=(1, 1))\n",
       "    (7): ReLU(inplace=True)\n",
       "    (8): Conv2d(384, 256, kernel_size=(3, 3), stride=(1, 1), padding=(1, 1))\n",
       "    (9): ReLU(inplace=True)\n",
       "    (10): Conv2d(256, 256, kernel_size=(3, 3), stride=(1, 1), padding=(1, 1))\n",
       "    (11): ReLU(inplace=True)\n",
       "    (12): MaxPool2d(kernel_size=3, stride=2, padding=0, dilation=1, ceil_mode=False)\n",
       "  )\n",
       "  (avgpool): AdaptiveAvgPool2d(output_size=(6, 6))\n",
       "  (classifier): Sequential(\n",
       "    (0): Dropout(p=0.5, inplace=False)\n",
       "    (1): Linear(in_features=9216, out_features=4096, bias=True)\n",
       "    (2): ReLU(inplace=True)\n",
       "    (3): Dropout(p=0.5, inplace=False)\n",
       "    (4): Linear(in_features=4096, out_features=4096, bias=True)\n",
       "    (5): ReLU(inplace=True)\n",
       "    (6): Linear(in_features=4096, out_features=1000, bias=True)\n",
       "  )\n",
       ")"
      ]
     },
     "execution_count": 5,
     "metadata": {},
     "output_type": "execute_result"
    }
   ],
   "source": [
    "model = models.alexnet(pretrained=True)\n",
    "device = torch.device(\"cuda\" if torch.cuda.is_available() else \"cpu\")\n",
    "model.to(device)\n",
    "model.eval()"
   ]
  },
  {
   "cell_type": "markdown",
   "id": "negative-orchestra",
   "metadata": {},
   "source": [
    "#### Preprocess"
   ]
  },
  {
   "cell_type": "code",
   "execution_count": 6,
   "id": "specific-scenario",
   "metadata": {},
   "outputs": [],
   "source": [
    "from PIL import Image\n",
    "def preprocess(image):\n",
    "    pil = Image.fromarray(image)  \n",
    "    # change dimension to 224x224, convert to tensor, and normalize\n",
    "    transform = transforms.Compose([\n",
    "        transforms.Resize(256), \n",
    "        transforms.CenterCrop(224), \n",
    "        transforms.ToTensor(), \n",
    "        transforms.Normalize( \n",
    "        mean=[0.485, 0.456, 0.406],\n",
    "        std=[0.229, 0.224, 0.225]\n",
    "        )\n",
    "    ])\n",
    "    img = transform(pil) \n",
    "    # add dimension\n",
    "    return torch.unsqueeze(img, 0).cuda() if torch.cuda.is_available() else torch.unsqueeze(img, 0)"
   ]
  },
  {
   "cell_type": "markdown",
   "id": "automated-spice",
   "metadata": {},
   "source": [
    "#### Classify Images"
   ]
  },
  {
   "cell_type": "code",
   "execution_count": 7,
   "id": "adopted-thinking",
   "metadata": {},
   "outputs": [
    {
     "name": "stderr",
     "output_type": "stream",
     "text": [
      "100%|████████████████████████████████████████████████████████████████████████████████████████████████████████████████████████████████████████████████████████████████████████████████████████████████| 10000/10000 [00:49<00:00, 200.67it/s]\n"
     ]
    }
   ],
   "source": [
    "with open('imagenet_classes.txt') as f: #read the categories from file\n",
    "    classes = [line.strip() for line in f.readlines()]\n",
    "\n",
    "# get top prediction\n",
    "def predict(out):\n",
    "    indices = torch.argsort(out, dim=1, descending=True)\n",
    "    prob = torch.nn.functional.softmax(out, dim=1)[0] * 100\n",
    "    return classes[indices[0][0]], prob[indices[0][0]].item()\n",
    "    \n",
    "occurences = {}\n",
    "classified = []\n",
    "for i in tqdm(range(xTe.shape[0])):\n",
    "    current = preprocess(xTe[i])\n",
    "    pred = model(current)\n",
    "    imgClass, prob = predict(pred)\n",
    "    if imgClass in occurences:\n",
    "        occurences[imgClass] += 1 \n",
    "    else:\n",
    "        occurences[imgClass] = 1\n",
    "    classified.append(imgClass)"
   ]
  },
  {
   "cell_type": "markdown",
   "id": "4da18666",
   "metadata": {},
   "source": [
    "#### Find Top 10"
   ]
  },
  {
   "cell_type": "code",
   "execution_count": 8,
   "id": "perfect-nowhere",
   "metadata": {},
   "outputs": [
    {
     "data": {
      "text/plain": [
       "{'moving van': 1253,\n",
       " 'fox squirrel, eastern fox squirrel, Sciurus niger': 666,\n",
       " 'sorrel': 398,\n",
       " 'container ship, containership, container vessel': 344,\n",
       " 'English foxhound': 301,\n",
       " 'Dandie Dinmont, Dandie Dinmont terrier': 257,\n",
       " 'thresher, thrasher, threshing machine': 249,\n",
       " 'Japanese spaniel': 245,\n",
       " 'milk can': 221,\n",
       " 'chain saw, chainsaw': 164}"
      ]
     },
     "execution_count": 8,
     "metadata": {},
     "output_type": "execute_result"
    }
   ],
   "source": [
    "from collections import Counter\n",
    "top10 = dict(Counter(occurences).most_common(10))\n",
    "top10"
   ]
  },
  {
   "cell_type": "markdown",
   "id": "interstate-calcium",
   "metadata": {},
   "source": [
    "\n",
    "#### Check Test Set Distribution"
   ]
  },
  {
   "cell_type": "code",
   "execution_count": 9,
   "id": "intermediate-parent",
   "metadata": {},
   "outputs": [
    {
     "name": "stdout",
     "output_type": "stream",
     "text": [
      "('moving van', [54, 433, 1, 8, 0, 0, 0, 13, 102, 642])\n",
      "('fox squirrel, eastern fox squirrel, Sciurus niger', [6, 5, 134, 115, 136, 30, 213, 18, 6, 3])\n",
      "('sorrel', [2, 0, 7, 5, 87, 4, 2, 288, 2, 1])\n",
      "('container ship, containership, container vessel', [32, 6, 0, 0, 2, 0, 0, 2, 284, 18])\n",
      "('English foxhound', [2, 3, 12, 48, 41, 97, 5, 91, 1, 1])\n",
      "('Dandie Dinmont, Dandie Dinmont terrier', [1, 2, 9, 40, 20, 160, 14, 10, 0, 1])\n",
      "('thresher, thrasher, threshing machine', [49, 52, 4, 0, 6, 0, 1, 12, 5, 120])\n",
      "('Japanese spaniel', [2, 1, 10, 55, 5, 125, 3, 43, 1, 0])\n",
      "('milk can', [10, 34, 18, 46, 13, 10, 14, 18, 36, 22])\n",
      "('chain saw, chainsaw', [26, 83, 5, 4, 0, 1, 1, 3, 2, 39])\n"
     ]
    }
   ],
   "source": [
    "distr = {}\n",
    "# count class occurences\n",
    "for x in top10.keys():\n",
    "    distr[x] = [0 for i in range(len(CLASS_NAMES))]\n",
    "\n",
    "# find distributions \n",
    "for i in range(len(classified)):\n",
    "    if classified[i] in distr:\n",
    "        distr[classified[i]][CLASS_NAMES.index(CLASS_NAMES[yTe[i][0]])] += 1\n",
    "\n",
    "# visualize\n",
    "for x in distr.items():\n",
    "    print(x)"
   ]
  },
  {
   "cell_type": "markdown",
   "id": "mineral-friendly",
   "metadata": {},
   "source": [
    "#### Make Confusion Matrix"
   ]
  },
  {
   "cell_type": "code",
   "execution_count": 10,
   "id": "51824104",
   "metadata": {
    "scrolled": false
   },
   "outputs": [
    {
     "data": {
      "text/plain": [
       "<AxesSubplot:title={'center':'Confusion Matrix'}>"
      ]
     },
     "execution_count": 10,
     "metadata": {},
     "output_type": "execute_result"
    },
    {
     "data": {
      "image/png": "[encoded data removed]",
      "text/plain": [
       "<Figure size 720x504 with 2 Axes>"
      ]
     },
     "metadata": {
      "needs_background": "light"
     },
     "output_type": "display_data"
    }
   ],
   "source": [
    "from seaborn import heatmap\n",
    "import pandas as pd\n",
    "\n",
    "# create 2D array from top10 distributions\n",
    "arr = np.asarray([i for i in distr.values()]).T\n",
    "\n",
    "# Plot \n",
    "df_cm = pd.DataFrame(arr, index = CLASS_NAMES, columns = [\" \".join(i.split(\" \")[:2]) for i in top10.keys()])\n",
    "plt.figure(figsize = (10,7))\n",
    "plt.title(\"Confusion Matrix\")\n",
    "heatmap(df_cm, annot = True, fmt = \"d\", cmap='coolwarm')"
   ]
  },
  {
   "cell_type": "markdown",
   "id": "845f508f",
   "metadata": {},
   "source": [
    "# (C) Extract features for all the images in the CIFAR10 dataset"
   ]
  },
  {
   "cell_type": "markdown",
   "id": "cf1094a0",
   "metadata": {},
   "source": [
    "#### Define Functions"
   ]
  },
  {
   "cell_type": "code",
   "execution_count": 11,
   "id": "85e9d5ad",
   "metadata": {},
   "outputs": [],
   "source": [
    "def normalize_data(x_train, y_train, flat=True):\n",
    "    x_train = x_train.astype(np.float32)\n",
    "    x_train = torch.from_numpy(x_train)\n",
    "    if flat:\n",
    "        x_train = torch.flatten(x_train, 1)\n",
    "    y_train = y_train.astype(np.int64)\n",
    "    return x_train, torch.from_numpy(y_train).view(-1)\n",
    "\n",
    "def train( model, train_loader, optimizer):\n",
    "    model.train()\n",
    "    correct = 0\n",
    "    for batch_idx, (data, target) in enumerate(train_loader):\n",
    "        data, target = data.cuda(), target.cuda()\n",
    "        optimizer.zero_grad()\n",
    "        output = model(data)\n",
    "        loss = loss_fn(output, target)\n",
    "        loss.backward()\n",
    "        optimizer.step()\n",
    "        pred = output.argmax(dim=1, keepdim=True) \n",
    "        correct += pred.eq(target.view_as(pred)).sum().item()\n",
    "    return loss.item(), correct / len(train_loader.dataset)\n",
    "\n",
    "def test( model, test_loader):\n",
    "    model.eval()\n",
    "    test_loss = 0\n",
    "    correct = 0\n",
    "    with torch.no_grad():\n",
    "        for data, target in test_loader:\n",
    "            data, target = data.cuda(), target.cuda()\n",
    "            output = model(data)\n",
    "            test_loss += loss_fn(output, target).item() \n",
    "            pred = output.argmax(dim=1, keepdim=True)  \n",
    "            correct += pred.eq(target.view_as(pred)).sum().item()\n",
    "\n",
    "    test_loss /= len(test_loader.dataset)\n",
    "    return test_loss,  correct / len(test_loader.dataset)"
   ]
  },
  {
   "cell_type": "markdown",
   "id": "778ee99c",
   "metadata": {},
   "source": [
    "#### Build fc6 Model"
   ]
  },
  {
   "cell_type": "code",
   "execution_count": 12,
   "id": "24fa79a9",
   "metadata": {
    "scrolled": false
   },
   "outputs": [
    {
     "data": {
      "text/plain": [
       "AlexNet(\n",
       "  (features): Sequential(\n",
       "    (0): Conv2d(3, 64, kernel_size=(11, 11), stride=(4, 4), padding=(2, 2))\n",
       "    (1): ReLU(inplace=True)\n",
       "    (2): MaxPool2d(kernel_size=3, stride=2, padding=0, dilation=1, ceil_mode=False)\n",
       "    (3): Conv2d(64, 192, kernel_size=(5, 5), stride=(1, 1), padding=(2, 2))\n",
       "    (4): ReLU(inplace=True)\n",
       "    (5): MaxPool2d(kernel_size=3, stride=2, padding=0, dilation=1, ceil_mode=False)\n",
       "    (6): Conv2d(192, 384, kernel_size=(3, 3), stride=(1, 1), padding=(1, 1))\n",
       "    (7): ReLU(inplace=True)\n",
       "    (8): Conv2d(384, 256, kernel_size=(3, 3), stride=(1, 1), padding=(1, 1))\n",
       "    (9): ReLU(inplace=True)\n",
       "    (10): Conv2d(256, 256, kernel_size=(3, 3), stride=(1, 1), padding=(1, 1))\n",
       "    (11): ReLU(inplace=True)\n",
       "    (12): MaxPool2d(kernel_size=3, stride=2, padding=0, dilation=1, ceil_mode=False)\n",
       "  )\n",
       "  (avgpool): AdaptiveAvgPool2d(output_size=(6, 6))\n",
       "  (classifier): Sequential(\n",
       "    (0): Dropout(p=0.5, inplace=False)\n",
       "    (1): Linear(in_features=9216, out_features=4096, bias=True)\n",
       "  )\n",
       ")"
      ]
     },
     "execution_count": 12,
     "metadata": {},
     "output_type": "execute_result"
    }
   ],
   "source": [
    "# Get Classifiers\n",
    "model6 = models.alexnet(pretrained=True)\n",
    "fc6 = torch.nn.Sequential(*list(model6.classifier.children())[:2])\n",
    "# change model\n",
    "model6.classifier = fc6\n",
    "# send to GPU\n",
    "model6.cuda()\n",
    "model6.eval()"
   ]
  },
  {
   "cell_type": "markdown",
   "id": "98d6633b",
   "metadata": {},
   "source": [
    "#### Extract Features from Entire Dataset"
   ]
  },
  {
   "cell_type": "code",
   "execution_count": 13,
   "id": "74ad98c5",
   "metadata": {
    "scrolled": true
   },
   "outputs": [
    {
     "name": "stderr",
     "output_type": "stream",
     "text": [
      "100%|████████████████████████████████████████████████████████████████████████████████████████████████████████████████████████████████████████████████████████████████████████████████████████████████| 60000/60000 [04:04<00:00, 245.14it/s]\n"
     ]
    },
    {
     "data": {
      "text/plain": [
       "60000"
      ]
     },
     "execution_count": 13,
     "metadata": {},
     "output_type": "execute_result"
    }
   ],
   "source": [
    "fullSetX = np.concatenate((xVal, xTr, xTe))\n",
    "# fullSetY = np.concatenate((yVal, yTr, yTe))\n",
    "features = []\n",
    "for i in tqdm(range(fullSetX.shape[0])):\n",
    "    current = preprocess(fullSetX[i])\n",
    "    pred = model6(current).reshape(4096).cpu().detach().numpy()\n",
    "    features.append(pred)\n",
    "len(features)"
   ]
  },
  {
   "cell_type": "markdown",
   "id": "d1dde65f",
   "metadata": {},
   "source": [
    "#### Define Linear Classifier"
   ]
  },
  {
   "cell_type": "code",
   "execution_count": 14,
   "id": "656c601d",
   "metadata": {},
   "outputs": [],
   "source": [
    "import torch.nn.functional as F\n",
    "class Linear(torch.nn.Module):\n",
    "    def __init__(self, input_size, number_of_classes=10):\n",
    "        super(Linear, self).__init__()\n",
    "        self.lin1 = torch.nn.Linear(input_size,64)\n",
    "        self.lin2 = torch.nn.Linear(64,number_of_classes)\n",
    "\n",
    "    def forward(self, x):\n",
    "        x = F.relu(self.lin1(x))\n",
    "        return self.lin2(x)"
   ]
  },
  {
   "cell_type": "markdown",
   "id": "2e1bada6",
   "metadata": {},
   "source": [
    "#### Dataset Loading "
   ]
  },
  {
   "cell_type": "code",
   "execution_count": 16,
   "id": "87bd90ec",
   "metadata": {
    "scrolled": false
   },
   "outputs": [
    {
     "data": {
      "text/plain": [
       "Linear(\n",
       "  (lin1): Linear(in_features=4096, out_features=64, bias=True)\n",
       "  (lin2): Linear(in_features=64, out_features=10, bias=True)\n",
       ")"
      ]
     },
     "execution_count": 16,
     "metadata": {},
     "output_type": "execute_result"
    }
   ],
   "source": [
    "from sklearn.linear_model import LogisticRegression\n",
    "from sklearn import preprocessing\n",
    "\n",
    "# Split the full set of features\n",
    "fc6Val = np.array(features[:10000])\n",
    "fc6Tr = np.array(features[10000:50000])\n",
    "fc6Te = np.array(features[50000:])\n",
    "\n",
    "fc6Tr_norm, yTr_norm = normalize_data(fc6Tr, yTr)\n",
    "loaderTr = torch.utils.data.TensorDataset(fc6Tr_norm, yTr_norm)\n",
    "loaderTr = torch.utils.data.DataLoader(loaderTr, BATCH_SIZE)\n",
    "\n",
    "fc6Val_norm, yVal_norm = normalize_data(fc6Val, yVal)\n",
    "loaderVal = torch.utils.data.TensorDataset(fc6Val_norm, yVal_norm)\n",
    "loaderVal = torch.utils.data.DataLoader(loaderVal, BATCH_SIZE)\n",
    "\n",
    "fc6Te_norm, yTe_norm = normalize_data(fc6Te, yTe)\n",
    "loaderTe = torch.utils.data.TensorDataset(fc6Te_norm, yTe_norm)\n",
    "loaderTe = torch.utils.data.DataLoader(loaderTe, BATCH_SIZE)\n",
    "\n",
    "linReg = Linear(fc6Tr[0].shape[0])\n",
    "linReg.cuda()\n"
   ]
  },
  {
   "cell_type": "markdown",
   "id": "2fe5e10d",
   "metadata": {
    "id": "KrmTzY4tgSsk"
   },
   "source": [
    "#### Running the Training"
   ]
  },
  {
   "cell_type": "code",
   "execution_count": 17,
   "id": "0ca17ef2",
   "metadata": {},
   "outputs": [
    {
     "name": "stderr",
     "output_type": "stream",
     "text": [
      "100%|█████████████████████████████████████████████████████████████████████████████████████████████████████████████████████████████████████████████████████████████████████████████████████████████████████| 100/100 [04:16<00:00,  2.56s/it]\n"
     ]
    },
    {
     "data": {
      "text/plain": [
       "<matplotlib.legend.Legend at 0x2702ef706d0>"
      ]
     },
     "execution_count": 17,
     "metadata": {},
     "output_type": "execute_result"
    },
    {
     "data": {
      "image/png": "[encoded data removed]",
      "text/plain": [
       "<Figure size 1080x360 with 2 Axes>"
      ]
     },
     "metadata": {
      "needs_background": "light"
     },
     "output_type": "display_data"
    }
   ],
   "source": [
    "loss_fn = torch.nn.CrossEntropyLoss()\n",
    "optimizer = torch.optim.Adam(linReg.parameters())\n",
    "EPOCHS = 100\n",
    "loss_history = []\n",
    "acc_history = []\n",
    "for i in tqdm(range(EPOCHS)):\n",
    "    train_loss, train_acc = train(linReg, loaderTr, optimizer)\n",
    "    val_loss, val_acc = test(linReg, loaderVal)\n",
    "    loss_history.append((train_loss, val_loss))\n",
    "    acc_history.append((train_acc, val_acc))\n",
    "    \n",
    "fig, axs = plt.subplots(1,2,figsize=(15,5))\n",
    "loss_history = np.array(loss_history)\n",
    "acc_history = np.array(acc_history)\n",
    "epochs_range = range(len(loss_history))\n",
    "\n",
    "axs[0].plot(epochs_range, loss_history[:, 0])\n",
    "axs[0].plot(epochs_range, loss_history[:, 1])\n",
    "axs[0].set_xlabel('Epoch')\n",
    "axs[0].set_ylabel('Loss')\n",
    "axs[0].legend(['loss', 'val_loss'])\n",
    "\n",
    "axs[1].plot(epochs_range, acc_history[:, 0])\n",
    "axs[1].plot(epochs_range, acc_history[:, 1])\n",
    "axs[1].set_xlabel('Epoch')\n",
    "axs[1].set_ylabel('Accuracy')\n",
    "axs[1].legend(['accuracy', 'val_accuracy'])\n"
   ]
  },
  {
   "cell_type": "code",
   "execution_count": 18,
   "id": "2ca4dea6",
   "metadata": {},
   "outputs": [
    {
     "name": "stdout",
     "output_type": "stream",
     "text": [
      "Test Dataset Loss: 0.03152832260169089, Accuracy: 0.7852\n"
     ]
    }
   ],
   "source": [
    "loss, acc = test(linReg, loaderTe)\n",
    "print(f\"Test Dataset Loss: {loss}, Accuracy: {acc}\")"
   ]
  },
  {
   "cell_type": "markdown",
   "id": "21c2b1a2",
   "metadata": {},
   "source": [
    "# (D) Extract features for all the images in the CIFAR10 dataset"
   ]
  },
  {
   "cell_type": "markdown",
   "id": "09c47fe6",
   "metadata": {},
   "source": [
    "#### Build fc7 Model"
   ]
  },
  {
   "cell_type": "code",
   "execution_count": 19,
   "id": "1f89efc0",
   "metadata": {
    "scrolled": false
   },
   "outputs": [
    {
     "data": {
      "text/plain": [
       "AlexNet(\n",
       "  (features): Sequential(\n",
       "    (0): Conv2d(3, 64, kernel_size=(11, 11), stride=(4, 4), padding=(2, 2))\n",
       "    (1): ReLU(inplace=True)\n",
       "    (2): MaxPool2d(kernel_size=3, stride=2, padding=0, dilation=1, ceil_mode=False)\n",
       "    (3): Conv2d(64, 192, kernel_size=(5, 5), stride=(1, 1), padding=(2, 2))\n",
       "    (4): ReLU(inplace=True)\n",
       "    (5): MaxPool2d(kernel_size=3, stride=2, padding=0, dilation=1, ceil_mode=False)\n",
       "    (6): Conv2d(192, 384, kernel_size=(3, 3), stride=(1, 1), padding=(1, 1))\n",
       "    (7): ReLU(inplace=True)\n",
       "    (8): Conv2d(384, 256, kernel_size=(3, 3), stride=(1, 1), padding=(1, 1))\n",
       "    (9): ReLU(inplace=True)\n",
       "    (10): Conv2d(256, 256, kernel_size=(3, 3), stride=(1, 1), padding=(1, 1))\n",
       "    (11): ReLU(inplace=True)\n",
       "    (12): MaxPool2d(kernel_size=3, stride=2, padding=0, dilation=1, ceil_mode=False)\n",
       "  )\n",
       "  (avgpool): AdaptiveAvgPool2d(output_size=(6, 6))\n",
       "  (classifier): Sequential(\n",
       "    (0): Dropout(p=0.5, inplace=False)\n",
       "    (1): Linear(in_features=9216, out_features=4096, bias=True)\n",
       "    (2): ReLU(inplace=True)\n",
       "    (3): Dropout(p=0.5, inplace=False)\n",
       "    (4): Linear(in_features=4096, out_features=4096, bias=True)\n",
       "  )\n",
       ")"
      ]
     },
     "execution_count": 19,
     "metadata": {},
     "output_type": "execute_result"
    }
   ],
   "source": [
    "# Get Classifiers\n",
    "model7 = models.alexnet(pretrained=True)\n",
    "fc7 = torch.nn.Sequential(*list(model7.classifier.children())[:5])\n",
    "# change model\n",
    "model7.classifier = fc7\n",
    "# send to GPU\n",
    "model7.cuda()\n",
    "model7.eval()"
   ]
  },
  {
   "cell_type": "markdown",
   "id": "4696ad2a",
   "metadata": {},
   "source": [
    "#### Extract Features from Entire Dataset"
   ]
  },
  {
   "cell_type": "code",
   "execution_count": 20,
   "id": "74ad98c5",
   "metadata": {
    "scrolled": true
   },
   "outputs": [
    {
     "name": "stderr",
     "output_type": "stream",
     "text": [
      "100%|████████████████████████████████████████████████████████████████████████████████████████████████████████████████████████████████████████████████████████████████████████████████████████████████| 60000/60000 [04:54<00:00, 203.42it/s]\n"
     ]
    },
    {
     "data": {
      "text/plain": [
       "60000"
      ]
     },
     "execution_count": 20,
     "metadata": {},
     "output_type": "execute_result"
    }
   ],
   "source": [
    "fullSetX = np.concatenate((xVal, xTr, xTe))\n",
    "# fullSetY = np.concatenate((yVal, yTr, yTe))\n",
    "features = []\n",
    "for i in tqdm(range(fullSetX.shape[0])):\n",
    "    current = preprocess(fullSetX[i])\n",
    "    pred = model7(current).reshape(4096).cpu().detach().numpy()\n",
    "    features.append(pred)\n",
    "len(features)"
   ]
  },
  {
   "cell_type": "markdown",
   "id": "d1dde65f",
   "metadata": {},
   "source": [
    "#### Dataset Loading"
   ]
  },
  {
   "cell_type": "code",
   "execution_count": 22,
   "id": "87bd90ec",
   "metadata": {
    "scrolled": true
   },
   "outputs": [
    {
     "data": {
      "text/plain": [
       "Linear(\n",
       "  (lin1): Linear(in_features=4096, out_features=64, bias=True)\n",
       "  (lin2): Linear(in_features=64, out_features=10, bias=True)\n",
       ")"
      ]
     },
     "execution_count": 22,
     "metadata": {},
     "output_type": "execute_result"
    }
   ],
   "source": [
    "# Split the full set of features\n",
    "fc7Val = np.array(features[:10000])\n",
    "fc7Tr = np.array(features[10000:50000])\n",
    "fc7Te = np.array(features[50000:])\n",
    "\n",
    "fc7Tr_norm, yTr_norm = normalize_data(fc7Tr, yTr)\n",
    "loaderTr = torch.utils.data.TensorDataset(fc7Tr_norm, yTr_norm)\n",
    "loaderTr = torch.utils.data.DataLoader(loaderTr, BATCH_SIZE)\n",
    "\n",
    "fc7Val_norm, yVal_norm = normalize_data(fc7Val, yVal)\n",
    "loaderVal = torch.utils.data.TensorDataset(fc7Val_norm, yVal_norm)\n",
    "loaderVal = torch.utils.data.DataLoader(loaderVal, BATCH_SIZE)\n",
    "\n",
    "fc7Te_norm, yTe_norm = normalize_data(fc7Te, yTe)\n",
    "loaderTe = torch.utils.data.TensorDataset(fc7Te_norm, yTe_norm)\n",
    "loaderTe = torch.utils.data.DataLoader(loaderTe, BATCH_SIZE)\n",
    "\n",
    "linReg = Linear(fc7Tr[0].shape[0])\n",
    "linReg.cuda()\n"
   ]
  },
  {
   "cell_type": "markdown",
   "id": "206df290",
   "metadata": {},
   "source": [
    "#### Running the Training"
   ]
  },
  {
   "cell_type": "code",
   "execution_count": 26,
   "id": "e1c6a4de",
   "metadata": {},
   "outputs": [
    {
     "name": "stderr",
     "output_type": "stream",
     "text": [
      "100%|█████████████████████████████████████████████████████████████████████████████████████████████████████████████████████████████████████████████████████████████████████████████████████████████████████| 100/100 [04:17<00:00,  2.58s/it]\n"
     ]
    },
    {
     "data": {
      "text/plain": [
       "<matplotlib.legend.Legend at 0x27034892220>"
      ]
     },
     "execution_count": 26,
     "metadata": {},
     "output_type": "execute_result"
    },
    {
     "data": {
      "image/png": "[encoded data removed]",
      "text/plain": [
       "<Figure size 1080x360 with 2 Axes>"
      ]
     },
     "metadata": {
      "needs_background": "light"
     },
     "output_type": "display_data"
    }
   ],
   "source": [
    "loss_fn = torch.nn.CrossEntropyLoss()\n",
    "optimizer = torch.optim.Adam(linReg.parameters())\n",
    "loss_history = []\n",
    "acc_history = []\n",
    "for i in tqdm(range(EPOCHS)):\n",
    "    train_loss, train_acc = train(linReg, loaderTr, optimizer)\n",
    "    val_loss, val_acc = test(linReg, loaderVal)\n",
    "    loss_history.append((train_loss, val_loss))\n",
    "    acc_history.append((train_acc, val_acc))\n",
    "    \n",
    "fig, axs = plt.subplots(1,2,figsize=(15,5))\n",
    "loss_history = np.array(loss_history)\n",
    "acc_history = np.array(acc_history)\n",
    "epochs_range = range(len(loss_history))\n",
    "\n",
    "axs[0].plot(epochs_range, loss_history[:, 0])\n",
    "axs[0].plot(epochs_range, loss_history[:, 1])\n",
    "axs[0].set_xlabel('Epoch')\n",
    "axs[0].set_ylabel('Loss')\n",
    "axs[0].legend(['loss', 'val_loss'])\n",
    "\n",
    "axs[1].plot(epochs_range, acc_history[:, 0])\n",
    "axs[1].plot(epochs_range, acc_history[:, 1])\n",
    "axs[1].set_xlabel('Epoch')\n",
    "axs[1].set_ylabel('Accuracy')\n",
    "axs[1].legend(['accuracy', 'val_accuracy'])\n"
   ]
  },
  {
   "cell_type": "code",
   "execution_count": 24,
   "id": "3f68ca26",
   "metadata": {},
   "outputs": [
    {
     "name": "stdout",
     "output_type": "stream",
     "text": [
      "Test Dataset Loss: 0.019075433379411696, Accuracy: 0.7862\n"
     ]
    }
   ],
   "source": [
    "loss, acc = test(linReg, loaderTe)\n",
    "print(f\"Test Dataset Loss: {loss}, Accuracy: {acc}\")"
   ]
  },
  {
   "cell_type": "code",
   "execution_count": null,
   "id": "f6ddce05",
   "metadata": {},
   "outputs": [],
   "source": []
  }
 ],
 "metadata": {
  "kernelspec": {
   "display_name": "Python 3",
   "language": "python",
   "name": "python3"
  },
  "language_info": {
   "codemirror_mode": {
    "name": "ipython",
    "version": 3
   },
   "file_extension": ".py",
   "mimetype": "text/x-python",
   "name": "python",
   "nbconvert_exporter": "python",
   "pygments_lexer": "ipython3",
   "version": "3.8.9"
  }
 },
 "nbformat": 4,
 "nbformat_minor": 5
}
