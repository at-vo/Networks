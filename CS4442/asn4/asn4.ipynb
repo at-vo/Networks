{
 "cells": [
  {
   "cell_type": "code",
   "execution_count": 1,
   "id": "realistic-shirt",
   "metadata": {
    "scrolled": true
   },
   "outputs": [
    {
     "ename": "KeyboardInterrupt",
     "evalue": "",
     "output_type": "error",
     "traceback": [
      "\u001b[1;31m---------------------------------------------------------------------------\u001b[0m",
      "\u001b[1;31mKeyboardInterrupt\u001b[0m                         Traceback (most recent call last)",
      "\u001b[1;32m<ipython-input-1-912f56f7a686>\u001b[0m in \u001b[0;36m<module>\u001b[1;34m\u001b[0m\n\u001b[1;32m----> 1\u001b[1;33m \u001b[1;32mimport\u001b[0m \u001b[0mtorch\u001b[0m\u001b[1;33m\u001b[0m\u001b[1;33m\u001b[0m\u001b[0m\n\u001b[0m\u001b[0;32m      2\u001b[0m \u001b[1;32mimport\u001b[0m \u001b[0mtensorflow\u001b[0m \u001b[1;32mas\u001b[0m \u001b[0mtf\u001b[0m\u001b[1;33m\u001b[0m\u001b[1;33m\u001b[0m\u001b[0m\n\u001b[0;32m      3\u001b[0m \u001b[1;32mfrom\u001b[0m \u001b[0mtensorflow\u001b[0m \u001b[1;32mimport\u001b[0m \u001b[0mkeras\u001b[0m\u001b[1;33m\u001b[0m\u001b[1;33m\u001b[0m\u001b[0m\n\u001b[0;32m      4\u001b[0m \u001b[1;32mimport\u001b[0m \u001b[0mnumpy\u001b[0m \u001b[1;32mas\u001b[0m \u001b[0mnp\u001b[0m\u001b[1;33m\u001b[0m\u001b[1;33m\u001b[0m\u001b[0m\n\u001b[0;32m      5\u001b[0m \u001b[1;32mimport\u001b[0m \u001b[0mmatplotlib\u001b[0m\u001b[1;33m.\u001b[0m\u001b[0mpyplot\u001b[0m \u001b[1;32mas\u001b[0m \u001b[0mplt\u001b[0m\u001b[1;33m\u001b[0m\u001b[1;33m\u001b[0m\u001b[0m\n",
      "\u001b[1;32mc:\\users\\darto\\appdata\\local\\programs\\python\\python38\\lib\\site-packages\\torch\\__init__.py\u001b[0m in \u001b[0;36m<module>\u001b[1;34m\u001b[0m\n\u001b[0;32m    615\u001b[0m \u001b[1;32mimport\u001b[0m \u001b[0mtorch\u001b[0m\u001b[1;33m.\u001b[0m\u001b[0mnn\u001b[0m\u001b[1;33m.\u001b[0m\u001b[0mquantizable\u001b[0m\u001b[1;33m\u001b[0m\u001b[1;33m\u001b[0m\u001b[0m\n\u001b[0;32m    616\u001b[0m \u001b[1;32mimport\u001b[0m \u001b[0mtorch\u001b[0m\u001b[1;33m.\u001b[0m\u001b[0mnn\u001b[0m\u001b[1;33m.\u001b[0m\u001b[0mquantized\u001b[0m\u001b[1;33m\u001b[0m\u001b[1;33m\u001b[0m\u001b[0m\n\u001b[1;32m--> 617\u001b[1;33m \u001b[1;32mfrom\u001b[0m \u001b[0mtorch\u001b[0m \u001b[1;32mimport\u001b[0m \u001b[0moptim\u001b[0m \u001b[1;32mas\u001b[0m \u001b[0moptim\u001b[0m\u001b[1;33m\u001b[0m\u001b[1;33m\u001b[0m\u001b[0m\n\u001b[0m\u001b[0;32m    618\u001b[0m \u001b[1;32mimport\u001b[0m \u001b[0mtorch\u001b[0m\u001b[1;33m.\u001b[0m\u001b[0moptim\u001b[0m\u001b[1;33m.\u001b[0m\u001b[0m_multi_tensor\u001b[0m\u001b[1;33m\u001b[0m\u001b[1;33m\u001b[0m\u001b[0m\n\u001b[0;32m    619\u001b[0m \u001b[1;32mfrom\u001b[0m \u001b[0mtorch\u001b[0m \u001b[1;32mimport\u001b[0m \u001b[0mmultiprocessing\u001b[0m \u001b[1;32mas\u001b[0m \u001b[0mmultiprocessing\u001b[0m\u001b[1;33m\u001b[0m\u001b[1;33m\u001b[0m\u001b[0m\n",
      "\u001b[1;32mc:\\users\\darto\\appdata\\local\\programs\\python\\python38\\lib\\site-packages\\torch\\optim\\__init__.py\u001b[0m in \u001b[0;36m<module>\u001b[1;34m\u001b[0m\n\u001b[0;32m      6\u001b[0m \"\"\"\n\u001b[0;32m      7\u001b[0m \u001b[1;33m\u001b[0m\u001b[0m\n\u001b[1;32m----> 8\u001b[1;33m \u001b[1;32mfrom\u001b[0m \u001b[1;33m.\u001b[0m\u001b[0madadelta\u001b[0m \u001b[1;32mimport\u001b[0m \u001b[0mAdadelta\u001b[0m\u001b[1;33m\u001b[0m\u001b[1;33m\u001b[0m\u001b[0m\n\u001b[0m\u001b[0;32m      9\u001b[0m \u001b[1;32mfrom\u001b[0m \u001b[1;33m.\u001b[0m\u001b[0madagrad\u001b[0m \u001b[1;32mimport\u001b[0m \u001b[0mAdagrad\u001b[0m\u001b[1;33m\u001b[0m\u001b[1;33m\u001b[0m\u001b[0m\n\u001b[0;32m     10\u001b[0m \u001b[1;32mfrom\u001b[0m \u001b[1;33m.\u001b[0m\u001b[0madam\u001b[0m \u001b[1;32mimport\u001b[0m \u001b[0mAdam\u001b[0m\u001b[1;33m\u001b[0m\u001b[1;33m\u001b[0m\u001b[0m\n",
      "\u001b[1;32mc:\\users\\darto\\appdata\\local\\programs\\python\\python38\\lib\\site-packages\\torch\\optim\\adadelta.py\u001b[0m in \u001b[0;36m<module>\u001b[1;34m\u001b[0m\n\u001b[0;32m      1\u001b[0m \u001b[1;32mimport\u001b[0m \u001b[0mtorch\u001b[0m\u001b[1;33m\u001b[0m\u001b[1;33m\u001b[0m\u001b[0m\n\u001b[0;32m      2\u001b[0m \u001b[1;33m\u001b[0m\u001b[0m\n\u001b[1;32m----> 3\u001b[1;33m \u001b[1;32mfrom\u001b[0m \u001b[1;33m.\u001b[0m \u001b[1;32mimport\u001b[0m \u001b[0m_functional\u001b[0m \u001b[1;32mas\u001b[0m \u001b[0mF\u001b[0m\u001b[1;33m\u001b[0m\u001b[1;33m\u001b[0m\u001b[0m\n\u001b[0m\u001b[0;32m      4\u001b[0m \u001b[1;32mfrom\u001b[0m \u001b[1;33m.\u001b[0m\u001b[0moptimizer\u001b[0m \u001b[1;32mimport\u001b[0m \u001b[0mOptimizer\u001b[0m\u001b[1;33m\u001b[0m\u001b[1;33m\u001b[0m\u001b[0m\n\u001b[0;32m      5\u001b[0m \u001b[1;33m\u001b[0m\u001b[0m\n",
      "\u001b[1;32mc:\\users\\darto\\appdata\\local\\programs\\python\\python38\\lib\\importlib\\_bootstrap.py\u001b[0m in \u001b[0;36m_find_and_load\u001b[1;34m(name, import_)\u001b[0m\n",
      "\u001b[1;32mc:\\users\\darto\\appdata\\local\\programs\\python\\python38\\lib\\importlib\\_bootstrap.py\u001b[0m in \u001b[0;36m_find_and_load_unlocked\u001b[1;34m(name, import_)\u001b[0m\n",
      "\u001b[1;32mc:\\users\\darto\\appdata\\local\\programs\\python\\python38\\lib\\importlib\\_bootstrap.py\u001b[0m in \u001b[0;36m_find_spec\u001b[1;34m(name, path, target)\u001b[0m\n",
      "\u001b[1;32mc:\\users\\darto\\appdata\\local\\programs\\python\\python38\\lib\\importlib\\_bootstrap_external.py\u001b[0m in \u001b[0;36mfind_spec\u001b[1;34m(cls, fullname, path, target)\u001b[0m\n",
      "\u001b[1;32mc:\\users\\darto\\appdata\\local\\programs\\python\\python38\\lib\\importlib\\_bootstrap_external.py\u001b[0m in \u001b[0;36m_get_spec\u001b[1;34m(cls, fullname, path, target)\u001b[0m\n",
      "\u001b[1;32mc:\\users\\darto\\appdata\\local\\programs\\python\\python38\\lib\\importlib\\_bootstrap_external.py\u001b[0m in \u001b[0;36mfind_spec\u001b[1;34m(self, fullname, target)\u001b[0m\n",
      "\u001b[1;32mc:\\users\\darto\\appdata\\local\\programs\\python\\python38\\lib\\importlib\\_bootstrap_external.py\u001b[0m in \u001b[0;36m_path_stat\u001b[1;34m(path)\u001b[0m\n",
      "\u001b[1;31mKeyboardInterrupt\u001b[0m: "
     ]
    }
   ],
   "source": [
    "import torch\n",
    "import tensorflow as tf\n",
    "from tensorflow import keras\n",
    "import numpy as np\n",
    "import matplotlib.pyplot as plt \n",
    "from torchvision import datasets, transforms, models\n",
    "from tqdm import tqdm\n",
    "from PIL import Image\n",
    "print(tf.__version__)"
   ]
  },
  {
   "cell_type": "markdown",
   "id": "interior-detector",
   "metadata": {},
   "source": [
    "#### Constants"
   ]
  },
  {
   "cell_type": "code",
   "execution_count": null,
   "id": "signed-provider",
   "metadata": {},
   "outputs": [],
   "source": [
    "BATCH_SIZE = 32\n",
    "CLASS_NAMES= ['airplane', 'automobile', 'bird', 'cat', 'deer', 'dog', 'frog', 'horse', 'ship', 'truck']"
   ]
  },
  {
   "cell_type": "markdown",
   "id": "superior-reply",
   "metadata": {},
   "source": [
    "#### Dataset Loading from Keras"
   ]
  },
  {
   "cell_type": "code",
   "execution_count": null,
   "id": "quick-france",
   "metadata": {},
   "outputs": [],
   "source": [
    "from keras.datasets import cifar10\n",
    "(xTr, yTr), (xTe, yTe) = keras.datasets.cifar10.load_data()\n",
    "\n",
    "# consider 1 training batch as validation\n",
    "xVal, yVal = xTr[:10000], yTr[:10000]\n",
    "# consider 4 training batches\n",
    "xTr, yTr = xTr[10000:], yTr[10000:]\n",
    "\n",
    "dsTr = tf.data.Dataset.from_tensor_slices((xTr, yTr)).shuffle(100).batch(BATCH_SIZE)\n",
    "dsTe = tf.data.Dataset.from_tensor_slices((xTe, yTe)).batch(BATCH_SIZE)\n",
    "dsVal = tf.data.Dataset.from_tensor_slices((xVal, yVal)).batch(BATCH_SIZE)"
   ]
  },
  {
   "cell_type": "markdown",
   "id": "stock-paradise",
   "metadata": {},
   "source": [
    "#### Visualize DataSet"
   ]
  },
  {
   "cell_type": "code",
   "execution_count": null,
   "id": "fossil-circuit",
   "metadata": {},
   "outputs": [],
   "source": [
    "print(f\"Training Matrix Shape for data: {xTr.shape}\")\n",
    "print(f\"Training Matrix Shape for labels: {yTr.shape}\")\n",
    "print(f\"Validation Matrix Shape for data: {xVal.shape}\")\n",
    "print(f\"Validation Matrix Shape for labels: {yVal.shape}\")\n",
    "print(f\"Testing Matrix Shape for data: {xTe.shape}\")\n",
    "print(f\"Testing Matrix Shape for labels: {yTe.shape}\")"
   ]
  },
  {
   "cell_type": "markdown",
   "id": "negative-orchestra",
   "metadata": {},
   "source": [
    "#### Preprocess"
   ]
  },
  {
   "cell_type": "code",
   "execution_count": null,
   "id": "specific-scenario",
   "metadata": {},
   "outputs": [],
   "source": [
    "def preprocess(image):\n",
    "    pil = Image.fromarray(image)    \n",
    "\n",
    "    # change image dims to 224x224, convert to tensor, and normalize\n",
    "    toTensor = transforms.Compose\n",
    "    ([\n",
    "        transforms.Resize(224), \n",
    "        transforms.ToTensor(), \n",
    "        transforms.Normalize(\n",
    "            mean=[0.485, 0.456, 0.406],\n",
    "            std=[0.229, 0.224, 0.225]\n",
    "        )\n",
    "    ])\n",
    "    img_n = toTensor(pil) #apply the transform\n",
    "    return torch.unsqueeze(img_n, 0) #add one dimension to the start"
   ]
  },
  {
   "cell_type": "markdown",
   "id": "increased-hostel",
   "metadata": {},
   "source": [
    "#### Model Definition"
   ]
  },
  {
   "cell_type": "code",
   "execution_count": null,
   "id": "standing-vacation",
   "metadata": {
    "scrolled": true
   },
   "outputs": [],
   "source": [
    "model = models.alexnet(pretrained=True)\n",
    "model.eval()"
   ]
  },
  {
   "cell_type": "markdown",
   "id": "automated-spice",
   "metadata": {},
   "source": [
    "#### Classify Images"
   ]
  },
  {
   "cell_type": "code",
   "execution_count": null,
   "id": "adopted-thinking",
   "metadata": {},
   "outputs": [],
   "source": [
    "with open('imagenet_classes.txt') as f: #read the categories from file\n",
    "    classes = [line.strip() for line in f.readlines()]\n",
    "\n",
    "# get top prediction\n",
    "def summarize(out):\n",
    "    indices = torch.argsort(out, dim=1, descending=True)\n",
    "    prob = torch.nn.functional.softmax(out, dim=1)[0] * 100\n",
    "    return classes[indices[0][0]], prob[indices[0][0]].item()\n",
    "    \n",
    "occurences = {}\n",
    "classified = []\n",
    "for i in tqdm(range(xTe.shape[0])):\n",
    "    current = preprocess(xTe[i])\n",
    "    pred = model(current)\n",
    "    imgClass, prob = summarize(pred)\n",
    "    if imgClass in occurences:\n",
    "        occurences[imgClass] += 1\n",
    "    else:\n",
    "        occurences[imgClass] = 1\n",
    "    classified.append(imgClass)"
   ]
  },
  {
   "cell_type": "code",
   "execution_count": null,
   "id": "perfect-nowhere",
   "metadata": {},
   "outputs": [],
   "source": [
    "from collections import Counter\n",
    "top10 = dict(Counter(occurences).most_common(10))\n",
    "top10"
   ]
  },
  {
   "cell_type": "markdown",
   "id": "interstate-calcium",
   "metadata": {},
   "source": [
    "#### Check Test Set Distribution"
   ]
  },
  {
   "cell_type": "code",
   "execution_count": null,
   "id": "intermediate-parent",
   "metadata": {},
   "outputs": [],
   "source": [
    "trueVal = {}\n",
    "for i in range(yTe.shape[0]):\n",
    "    current = yTe[i][0]\n",
    "    if current in trueVal:\n",
    "        trueVal[current] += 1\n",
    "    else:\n",
    "        trueVal[current] = 1\n",
    "trueVal"
   ]
  },
  {
   "cell_type": "markdown",
   "id": "mineral-friendly",
   "metadata": {},
   "source": [
    "#### Check Predictions"
   ]
  },
  {
   "cell_type": "code",
   "execution_count": null,
   "id": "pleasant-assist",
   "metadata": {},
   "outputs": [],
   "source": [
    "\n",
    "for i in tqdm(range(xTe.shape[0])):\n",
    "    current = preprocess(xTe[i])\n",
    "    pred = model(current)\n",
    "    imgClass, prob = summarize(pred)\n",
    "    if imgClass in occurences:\n",
    "        occurences[imgClass] += 1\n",
    "    else:\n",
    "        occurences[imgClass] = 1"
   ]
  }
 ],
 "metadata": {
  "kernelspec": {
   "display_name": "Python 3",
   "language": "python",
   "name": "python3"
  },
  "language_info": {
   "codemirror_mode": {
    "name": "ipython",
    "version": 3
   },
   "file_extension": ".py",
   "mimetype": "text/x-python",
   "name": "python",
   "nbconvert_exporter": "python",
   "pygments_lexer": "ipython3",
   "version": "3.8.8"
  }
 },
 "nbformat": 4,
 "nbformat_minor": 5
}
