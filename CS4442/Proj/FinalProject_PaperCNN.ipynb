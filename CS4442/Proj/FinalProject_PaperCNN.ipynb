{
 "cells": [
  {
   "cell_type": "code",
   "execution_count": 1,
   "metadata": {},
   "outputs": [],
   "source": [
    "import matplotlib.pyplot as plt\n",
    "import numpy as np\n",
    "import pandas as pd\n",
    "import torch\n",
    "import torchvision\n",
    "import torch.nn.functional as F\n",
    "import seaborn as sn\n",
    "from sklearn.metrics import confusion_matrix\n",
    "from time import time\n",
    "from torchvision import datasets, transforms\n",
    "from torch import nn, optim"
   ]
  },
  {
   "cell_type": "code",
   "execution_count": 2,
   "metadata": {},
   "outputs": [],
   "source": [
    "transform = transforms.Compose([transforms.ToTensor(),\n",
    "                              transforms.Normalize((0.5,), (0.5,)),\n",
    "                              ])"
   ]
  },
  {
   "cell_type": "code",
   "execution_count": 3,
   "metadata": {},
   "outputs": [],
   "source": [
    "# Settings\n",
    "numEpochs = 5 # Number of training rounds. More = greater accuracy, longer training\n",
    "testAccuracyWhenTraining = False # Runs testing after each training iteration, outputs accuracy plot at the end. Takes longer.\n",
    "useFullSet = False # If false, uses the 'balanced' training set (smaller, and not all digits), thus trains faster\n",
    "\n",
    "# ByClass\n",
    "if(useFullSet):   \n",
    "    trainset = datasets.EMNIST(root='./data', download=True, train=True, split='byclass', transform=transform)\n",
    "    valset = datasets.EMNIST(root='./data', download=True, train=False, split='byclass', transform=transform)\n",
    "    trainloader = torch.utils.data.DataLoader(trainset, batch_size=64, shuffle=True)\n",
    "    testloader = torch.utils.data.DataLoader(valset, batch_size=64, shuffle=True)\n",
    "    \n",
    "    numOutFeatures = 62\n",
    "    charList = ['0','1','2','3','4','5','6','7','8','9',\n",
    "            'A','B','C','D','E','F','G','H','I','J','K','L','M','N','O','P','Q','R','S','T','U','V','W','X','Y','Z',\n",
    "            'a','b','c','d','e','f','g','h','i','j','k','l','m','n','o','p','q','r','s','t','u','v','w','x','y','z']\n",
    "    \n",
    "# Balanced\n",
    "else:\n",
    "    trainset = datasets.EMNIST(root='./data', download=True, train=True, split='balanced', transform=transform)\n",
    "    valset = datasets.EMNIST(root='./data', download=True, train=False, split='balanced', transform=transform)\n",
    "    trainloader = torch.utils.data.DataLoader(trainset, batch_size=64, shuffle=True)\n",
    "    testloader = torch.utils.data.DataLoader(valset, batch_size=64, shuffle=True)\n",
    "\n",
    "    numOutFeatures = 47\n",
    "    charList = ['0','1','2','3','4','5','6','7','8','9',\n",
    "                'A','B','C','D','E','F','G','H','I','J','K','L','M','N','O','P','Q','R','S','T','U','V','W','X','Y','Z',\n",
    "                'a','b','d','e','f','g','h','n','q','r','t']  "
   ]
  },
  {
   "cell_type": "code",
   "execution_count": 4,
   "metadata": {},
   "outputs": [],
   "source": [
    "# Model replicated from\n",
    "# https://web.stanford.edu/class/cs231m/projects/final-report-yang-pu.pdf\n",
    "\n",
    "class Net(nn.Module):\n",
    "    def __init__(self):\n",
    "        super(Net, self).__init__()\n",
    "        self.conv1 = nn.Conv2d(in_channels=1, out_channels=8, kernel_size=5, stride=1, padding=1, dilation=1)\n",
    "        self.conv2 = nn.Conv2d(in_channels=8, out_channels=16, kernel_size=5, stride=1, padding=1, dilation=1)\n",
    "\n",
    "        self.fc1 = nn.Linear(16*5*5, 128)\n",
    "        self.fc2 = nn.Linear(128, numOutFeatures)\n",
    "\n",
    "    def forward(self, x):\n",
    "        #batch_size = x.size(0)\n",
    "        \n",
    "        x = F.relu(self.conv1(x))\n",
    "        x = F.max_pool2d(x, 2, 2)\n",
    "        \n",
    "        x = F.relu(self.conv2(x))\n",
    "        x = F.max_pool2d(x, 2, 2)\n",
    "        \n",
    "        x = x.view(-1, 16*5*5) # resize for the FC      \n",
    "        x = F.relu(self.fc1(x))\n",
    "        x = self.fc2(x)\n",
    "        return F.log_softmax(x, dim=1)"
   ]
  },
  {
   "cell_type": "code",
   "execution_count": 5,
   "metadata": {},
   "outputs": [
    {
     "data": {
      "text/plain": [
       "Net(\n",
       "  (conv1): Conv2d(1, 8, kernel_size=(5, 5), stride=(1, 1), padding=(1, 1))\n",
       "  (conv2): Conv2d(8, 16, kernel_size=(5, 5), stride=(1, 1), padding=(1, 1))\n",
       "  (fc1): Linear(in_features=400, out_features=128, bias=True)\n",
       "  (fc2): Linear(in_features=128, out_features=47, bias=True)\n",
       ")"
      ]
     },
     "execution_count": 5,
     "metadata": {},
     "output_type": "execute_result"
    }
   ],
   "source": [
    "# Create the model\n",
    "model = Net()\n",
    "\n",
    "# Define the optimizer and loss criteria\n",
    "optimizer = optim.SGD(model.parameters(), lr=0.05, momentum=0.5)\n",
    "criterion = nn.CrossEntropyLoss()\n",
    "\n",
    "# Use GPU if available\n",
    "if torch.cuda.is_available():\n",
    "    model = model.cuda()\n",
    "    criterion = criterion.cuda()\n",
    "    \n",
    "# Display the model\n",
    "model.eval()"
   ]
  },
  {
   "cell_type": "code",
   "execution_count": 6,
   "metadata": {},
   "outputs": [],
   "source": [
    "def testAccuracy():\n",
    "    correct_count, all_count = 0, 0\n",
    "\n",
    "    for images,labels in testloader:\n",
    "      for i in range(len(labels)):\n",
    "        if torch.cuda.is_available():\n",
    "            images = images.cuda()\n",
    "            labels = labels.cuda()\n",
    "        img = images[i].view(1, 1, 28, 28)\n",
    "\n",
    "        with torch.no_grad():\n",
    "            logps = model(img)\n",
    "\n",
    "        ps = torch.exp(logps)\n",
    "        probab = list(ps.cpu()[0])\n",
    "        pred_label = probab.index(max(probab))\n",
    "\n",
    "        # Increment the counts\n",
    "        true_label = labels.cpu()[i]\n",
    "        if(true_label == pred_label):\n",
    "          correct_count += 1\n",
    "        all_count += 1\n",
    "\n",
    "    return(correct_count/all_count)"
   ]
  },
  {
   "cell_type": "code",
   "execution_count": 7,
   "metadata": {
    "scrolled": false
   },
   "outputs": [
    {
     "name": "stdout",
     "output_type": "stream",
     "text": [
      "Epoch 0 - Training loss: 0.8118542721848967\n",
      "Epoch 1 - Training loss: 0.4220972887989951\n",
      "Epoch 2 - Training loss: 0.37015434955914994\n",
      "Epoch 3 - Training loss: 0.34232273181426004\n",
      "Epoch 4 - Training loss: 0.3215667378670846\n",
      "\n",
      "Training Time (in minutes) = 1.943850866953532\n"
     ]
    }
   ],
   "source": [
    "time0 = time()\n",
    "epochs = numEpochs\n",
    "epochNum, epochLoss, epochAccuracy = [], [], []\n",
    "for i in range(epochs):\n",
    "    train_loss = 0\n",
    "    for images, labels in trainloader:\n",
    "\n",
    "        # Use GPU if abailable\n",
    "        if torch.cuda.is_available():\n",
    "          images = images.cuda()\n",
    "          labels = labels.cuda()\n",
    "\n",
    "        # Training pass\n",
    "        optimizer.zero_grad()       \n",
    "        output = model(images)\n",
    "        loss = criterion(output, labels)\n",
    "        \n",
    "        # Backpropagation\n",
    "        loss.backward()\n",
    "        \n",
    "        # Optimize weights\n",
    "        optimizer.step()\n",
    "        \n",
    "        train_loss += loss.item()\n",
    "    else:\n",
    "        epochNum.append(i)\n",
    "        epochLoss.append(train_loss/len(trainloader))        \n",
    "        print(\"Epoch {} - Training loss: {}\".format(i, train_loss/len(trainloader))) # Average over each image in the training set for each epoch\n",
    "        \n",
    "        # Test the accuracy\n",
    "        if(testAccuracyWhenTraining):\n",
    "            accuracy = testAccuracy() \n",
    "            epochAccuracy.append(accuracy)\n",
    "            print(\"\\tAccuracy: \", accuracy) # Calculate the arruacy for the current epoch\n",
    "        \n",
    "print(\"\\nTraining Time (in minutes) =\",(time()-time0)/60)"
   ]
  },
  {
   "cell_type": "code",
   "execution_count": 9,
   "metadata": {},
   "outputs": [
    {
     "data": {
      "image/png": "[encoded data removed]",
      "text/plain": [
       "<Figure size 432x288 with 1 Axes>"
      ]
     },
     "metadata": {
      "needs_background": "light"
     },
     "output_type": "display_data"
    }
   ],
   "source": [
    "# Training loss\n",
    "plt.figure(0)\n",
    "plt.plot(epochNum, epochLoss)\n",
    "plt.xlabel('epoch')\n",
    "plt.ylabel('Training loss')\n",
    "\n",
    "# Accuracy\n",
    "if(testAccuracyWhenTraining):\n",
    "    plt.figure(1)\n",
    "    plt.plot(epochNum, epochAccuracy)\n",
    "    plt.xlabel('epoch')\n",
    "    plt.ylabel('Accuracy')"
   ]
  },
  {
   "cell_type": "code",
   "execution_count": 10,
   "metadata": {},
   "outputs": [
    {
     "name": "stdout",
     "output_type": "stream",
     "text": [
      "Images Tested:  18800\n",
      "Accuracy:  0.8667021276595744\n",
      "Average computational time (ms):  1.3732159264544224\n"
     ]
    }
   ],
   "source": [
    "# getting predictions on test set and measuring the performance\n",
    "correct_count, all_count, totalPredTime = 0, 0, 0\n",
    "predictions, targets = [], []\n",
    "\n",
    "for images,labels in testloader:\n",
    "  for i in range(len(labels)):\n",
    "    if torch.cuda.is_available():\n",
    "        images = images.cuda()\n",
    "        labels = labels.cuda()\n",
    "    img = images[i].view(1, 1, 28, 28)\n",
    "    \n",
    "    # Prediction start\n",
    "    timepred0 = time()    \n",
    "    with torch.no_grad():\n",
    "        logps = model(img)\n",
    "    \n",
    "    ps = torch.exp(logps)\n",
    "    probab = list(ps.cpu()[0])\n",
    "    pred_label = probab.index(max(probab))\n",
    "    totalPredTime += (time() - timepred0)\n",
    "    # Prediction end\n",
    "    \n",
    "    # Increment the counts\n",
    "    true_label = labels.cpu()[i]\n",
    "    if(true_label == pred_label):\n",
    "      correct_count += 1\n",
    "    all_count += 1\n",
    "    \n",
    "    # Add to the list of predictions\n",
    "    predictions.append(pred_label)\n",
    "    targets.append(true_label)\n",
    "\n",
    "print(\"Images Tested: \", all_count)\n",
    "print(\"Accuracy: \", (correct_count/all_count))\n",
    "print(\"Average computational time (ms): \", 1000*totalPredTime/all_count)"
   ]
  },
  {
   "cell_type": "code",
   "execution_count": 11,
   "metadata": {},
   "outputs": [
    {
     "data": {
      "text/plain": [
       "Text(69.0, 0.5, 'True label')"
      ]
     },
     "execution_count": 11,
     "metadata": {},
     "output_type": "execute_result"
    },
    {
     "data": {
      "image/png": "[encoded data removed]",
      "text/plain": [
       "<Figure size 720x504 with 2 Axes>"
      ]
     },
     "metadata": {
      "needs_background": "light"
     },
     "output_type": "display_data"
    }
   ],
   "source": [
    "# Create the character dictionary\n",
    "charDict = {v: k for v, k in enumerate(charList)}\n",
    "\n",
    "# Convert the tensor list into a list of ints\n",
    "targetsList = []\n",
    "for i in targets:\n",
    "    targetsList.append(i.item())\n",
    "\n",
    "# Transform the labels to their respective characters\n",
    "predictionLabels = [charDict[x] for x in predictions]\n",
    "trueLabels = [charDict[x] for x in targetsList]\n",
    "\n",
    "# Convert it into a pandas dataframe\n",
    "targPredListLabels = pd.DataFrame(\n",
    "    {'targets': trueLabels,\n",
    "     'predictions': predictionLabels\n",
    "    })\n",
    "\n",
    "# Create the confusions matrix\n",
    "cm = pd.crosstab(targPredListLabels['targets'], targPredListLabels['predictions'])\n",
    "\n",
    "# Plot the confusion matrix\n",
    "plt.figure(figsize = (10,7))\n",
    "sn.heatmap(cm, fmt=\"d\")\n",
    "plt.xlabel('Predicted label')\n",
    "plt.ylabel('True label')"
   ]
  },
  {
   "cell_type": "code",
   "execution_count": null,
   "metadata": {},
   "outputs": [],
   "source": []
  }
 ],
 "metadata": {
  "kernelspec": {
   "display_name": "Python 3",
   "language": "python",
   "name": "python3"
  },
  "language_info": {
   "codemirror_mode": {
    "name": "ipython",
    "version": 3
   },
   "file_extension": ".py",
   "mimetype": "text/x-python",
   "name": "python",
   "nbconvert_exporter": "python",
   "pygments_lexer": "ipython3",
   "version": "3.8.3"
  }
 },
 "nbformat": 4,
 "nbformat_minor": 4
}
